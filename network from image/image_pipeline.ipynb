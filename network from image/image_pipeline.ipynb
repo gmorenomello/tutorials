{
 "cells": [
  {
   "cell_type": "code",
   "execution_count": 1,
   "metadata": {},
   "outputs": [],
   "source": [
    "# Import Libraries\n",
    "import numpy as np\n",
    "import cv2\n",
    "import matplotlib.pylab as plt\n",
    "import skimage.io\n",
    "from skimage.filters import threshold_otsu\n",
    "from ipywidgets import interact, interactive, fixed, interact_manual\n",
    "import ipywidgets as widgets\n",
    "%matplotlib qt "
   ]
  },
  {
   "cell_type": "code",
   "execution_count": 2,
   "metadata": {},
   "outputs": [],
   "source": [
    "# Define functions\n",
    "\n",
    "def neighbours(x,y,image):\n",
    "    \"Return 8-neighbours of image point P1(x,y), in a clockwise order\"\n",
    "    img = image\n",
    "    x_1, y_1, x1, y1 = x-1, y-1, x+1, y+1\n",
    "    return [ img[x_1][y], img[x_1][y1], img[x][y1], img[x1][y1],     # P2,P3,P4,P5\n",
    "                img[x1][y], img[x1][y_1], img[x][y_1], img[x_1][y_1] ]    # P6,P7,P8,P9\n",
    "\n",
    "def transitions(neighbours):\n",
    "    \"No. of 0,1 patterns (transitions from 0 to 1) in the ordered sequence\"\n",
    "    n = neighbours + neighbours[0:1]      # P2, P3, ... , P8, P9, P2\n",
    "    return sum( (n1, n2) == (0, 1) for n1, n2 in zip(n, n[1:]) )  # (P2,P3), (P3,P4), ... , (P8,P9), (P9,P2)\n",
    "\n",
    "def zhangSuen(image):\n",
    "    \"the Zhang-Suen Thinning Algorithm\"\n",
    "    Image_Thinned = image.copy()  # deepcopy to protect the original image\n",
    "    changing1 = changing2 = 1        #  the points to be removed (set as 0)\n",
    "    while changing1 or changing2:   #  iterates until no further changes occur in the image\n",
    "        # Step 1\n",
    "        changing1 = []\n",
    "        rows, columns = Image_Thinned.shape               # x for rows, y for columns\n",
    "        for x in range(1, rows - 1):                     # No. of  rows\n",
    "            for y in range(1, columns - 1):            # No. of columns\n",
    "                P2,P3,P4,P5,P6,P7,P8,P9 = n = neighbours(x, y, Image_Thinned)\n",
    "                if (Image_Thinned[x][y] == 1     and    # Condition 0: Point P1 in the object regions \n",
    "                    2 <= sum(n) <= 6   and    # Condition 1: 2<= N(P1) <= 6\n",
    "                    transitions(n) == 1 and    # Condition 2: S(P1)=1  \n",
    "                    P2 * P4 * P6 == 0  and    # Condition 3   \n",
    "                    P4 * P6 * P8 == 0):         # Condition 4\n",
    "                    changing1.append((x,y))\n",
    "        for x, y in changing1: \n",
    "            Image_Thinned[x][y] = 0\n",
    "        # Step 2\n",
    "        changing2 = []\n",
    "        for x in range(1, rows - 1):\n",
    "            for y in range(1, columns - 1):\n",
    "                P2,P3,P4,P5,P6,P7,P8,P9 = n = neighbours(x, y, Image_Thinned)\n",
    "                if (Image_Thinned[x][y] == 1   and        # Condition 0\n",
    "                    2 <= sum(n) <= 6  and       # Condition 1\n",
    "                    transitions(n) == 1 and      # Condition 2\n",
    "                    P2 * P4 * P8 == 0 and       # Condition 3\n",
    "                    P2 * P6 * P8 == 0):            # Condition 4\n",
    "                    changing2.append((x,y))    \n",
    "        for x, y in changing2: \n",
    "            Image_Thinned[x][y] = 0\n",
    "    return Image_Thinned"
   ]
  },
  {
   "cell_type": "code",
   "execution_count": 3,
   "metadata": {},
   "outputs": [],
   "source": [
    "# 0 - Load the image in grayscale\n",
    "img = cv2.imread('sample1.jpg',cv2.IMREAD_GRAYSCALE)\n",
    "inv_img = (255-img)"
   ]
  },
  {
   "cell_type": "code",
   "execution_count": 4,
   "metadata": {},
   "outputs": [],
   "source": [
    "# 1 - IMAGE PROCESSING\n",
    "\n",
    "# APPLY OTSU THRESHOLDING must set object region as 1, background region as 0 !\n",
    "#otsu_thres = threshold_otsu(img)  \n",
    "#bw_img = (inv_img) < otsu_thres    # for some reason it doesnt work well. Must double check\n",
    "\n",
    "# APPLY simple thresholding\n",
    "ret,thresh1 = cv2.threshold(inv_img,55,255,cv2.THRESH_BINARY)\n",
    "bw_img = thresh1.astype(bool)\n",
    "# Do some thining\n",
    "\n",
    "# Perform the distance transform algorithm\n",
    "#dist = cv2.distanceTransform(thresh1, cv2.DIST_L2, 3)\n",
    "# Normalize the distance image for range = {0.0, 1.0}\n",
    "# so we can visualize and threshold it\n",
    "#cv2.normalize(dist, dist, 0, 1.0, cv2.NORM_MINMAX)\n",
    "\n",
    "# APPLY ZHANG SUEN THINING \n",
    "BW_Skeleton = zhangSuen(bw_img)\n",
    "# BW_Skeleton = BW_Original\n"
   ]
  },
  {
   "cell_type": "code",
   "execution_count": 5,
   "metadata": {},
   "outputs": [
    {
     "data": {
      "image/png": "[encoded data removed]",
      "text/plain": [
       "<Figure size 432x288 with 2 Axes>"
      ]
     },
     "metadata": {
      "needs_background": "light"
     },
     "output_type": "display_data"
    }
   ],
   "source": [
    "# 1.1 DISPLAY THINNING RESULT\n",
    "fig, ax = plt.subplots(1, 2)\n",
    "ax1, ax2 = ax.ravel()\n",
    "ax1.imshow(bw_img, cmap=plt.cm.gray)\n",
    "ax1.set_title('Original binary image')\n",
    "ax1.axis('off')\n",
    "ax2.imshow(BW_Skeleton, cmap=plt.cm.gray)\n",
    "ax2.set_title('Skeleton of the image')\n",
    "ax2.axis('off')\n",
    "plt.show()"
   ]
  },
  {
   "cell_type": "code",
   "execution_count": 6,
   "metadata": {},
   "outputs": [],
   "source": [
    "# 2 - IMAGE SEGMENTATION\n",
    "\n",
    "#Find the corners\n",
    "corners = cv2.goodFeaturesToTrack(inv_img, 100, 0.5, 10)\n"
   ]
  },
  {
   "cell_type": "code",
   "execution_count": 7,
   "metadata": {},
   "outputs": [
    {
     "data": {
      "image/png": "[encoded data removed]",
      "text/plain": [
       "<Figure size 432x288 with 1 Axes>"
      ]
     },
     "metadata": {
      "needs_background": "light"
     },
     "output_type": "display_data"
    }
   ],
   "source": [
    "# 2.1 Display corners\n",
    "k_img = np.copy(inv_img)\n",
    "for corner in corners:\n",
    "    x,y = corner.ravel()\n",
    "    cv2.circle(k_img,(x,y),3,255,-1)\n",
    "\n",
    "plt.imshow(k_img)\n",
    "plt.show()"
   ]
  },
  {
   "cell_type": "code",
   "execution_count": 79,
   "metadata": {},
   "outputs": [],
   "source": [
    "final_img = BW_Skeleton.astype(np.uint8)*255\n",
    "cv2.imshow('image',final_img)\n",
    "cv2.waitKey(0)\n",
    "cv2.destroyAllWindows()"
   ]
  },
  {
   "cell_type": "code",
   "execution_count": null,
   "metadata": {
    "scrolled": true
   },
   "outputs": [],
   "source": [
    "# Set Map\n",
    "grid =  np.zeros((15,15))\n",
    "grid[:,0] = 1\n",
    "grid[14,:] = 1\n",
    "\n",
    "print(grid)\n"
   ]
  },
  {
   "cell_type": "code",
   "execution_count": null,
   "metadata": {},
   "outputs": [],
   "source": [
    "# each point must have: \n",
    "# coordinate\n",
    "# S = distance from source\n",
    "# D = distance from destiny\n",
    "# M = S + D\n",
    "\n",
    "class position_point():\n",
    "    def __init__(self, pos_v, pos_h):\n",
    "        self.pos_v = pos_v\n",
    "        self.pos_h = pos_h\n",
    "        \n",
    "    def calc_distance(self, ref):\n",
    "        return np.sqrt(((self.pos_v-ref.pos_v)**2)+((self.pos_h-ref.pos_h)**2))*10\n",
    "\n",
    "    def calc_walk(self, src, dst):\n",
    "        self.S = self.calc_distance(src)\n",
    "        self.D = self.calc_distance(dst)\n",
    "        self.M = self.S + self.D\n",
    "        \n",
    "start = position_point(2,0)\n",
    "p1 = position_point(0,0)\n",
    "goal = position_point(4,4)\n",
    "p1.calc_walk(start,goal)\n",
    "print(p1.S, p1.D, p1.M)"
   ]
  },
  {
   "cell_type": "markdown",
   "metadata": {},
   "source": [
    "# YOU STOPPED HERE; you were trying to create a a-star algorithm to trace the path between two corners in the plot"
   ]
  },
  {
   "cell_type": "code",
   "execution_count": null,
   "metadata": {},
   "outputs": [],
   "source": [
    "\n",
    "\n",
    "\n",
    "#def a_star( graph, start, goal):\n",
    "open_set = set()\n",
    "closed_set = []\n",
    "path = []\n",
    "\n",
    "# Calculate the costs for the starting point.\n",
    "start.calc_walk(start,goal)\n",
    "open_set.add(start)\n",
    "cc = 1\n",
    "\n",
    "while len(open_set) is not 0:\n",
    "    cc+=1\n",
    "    # set the current node as the one with the lowest M cost\n",
    "    current = min(open_set, key=lambda inst:inst.M)\n",
    "    print(current.pos_v,current.pos_h,current.S,current.D,current.M)\n",
    "    # Move node from the open set to the closed set\n",
    "    open_set.remove(current)\n",
    "    closed_set.append(current)\n",
    "\n",
    "    # did it reach the end? if yes return the path\n",
    "    if (current.pos_v,current.pos_h) == (end.pos_v,end.pos_h): #cc == 20:\n",
    "        break\n",
    "        #return \"the path vector\"\n",
    "\n",
    "    # Find all the neighbors that are in valid nodes\n",
    "    clockwise_neighbors = np.asarray([[-1,0],[-1,1],[0,1],[1,1],[1,0],[1,-1],[0,-1],[-1,-1]])\n",
    "    valid_neighbors = []\n",
    "    node = np.asarray((current.pos_v,current.pos_h))\n",
    "    for i,neig in enumerate(clockwise_neighbors):\n",
    "        cur_point = node + neig\n",
    "        if cur_point[0] >= 0 and cur_point[0] < grid.shape[0] and cur_point[1] < grid.shape[1] and cur_point[1] >=0 and grid[cur_point[0],cur_point[1]] == 1:\n",
    "            closed_list = []\n",
    "            for closed in closed_set:\n",
    "                closed_list.append((closed.pos_v,closed.pos_h))\n",
    "            if (cur_point[0],cur_point[1])  not in closed_list:\n",
    "                node_to_append = np.ndarray.tolist(cur_point.astype(np.uint8))\n",
    "                #print(node_to_append)\n",
    "                vp = position_point(node_to_append[0],node_to_append[1])\n",
    "                vp.calc_walk( start, goal)\n",
    "                open_set.add(vp)\n",
    "\n",
    "\n",
    "   "
   ]
  },
  {
   "cell_type": "markdown",
   "metadata": {},
   "source": [
    "# This code loads the matrix and the corner coordinates"
   ]
  },
  {
   "cell_type": "code",
   "execution_count": 159,
   "metadata": {},
   "outputs": [
    {
     "name": "stdout",
     "output_type": "stream",
     "text": [
      "222.0 132.0\n",
      "236.0 203.0\n",
      "229.0 191.0\n",
      "223.0 122.0\n",
      "212.0 151.0\n",
      "224.0 74.0\n",
      "266.0 72.0\n",
      "98.0 276.0\n",
      "276.0 293.0\n",
      "152.0 111.0\n",
      "196.0 189.0\n",
      "332.0 184.0\n",
      "199.0 293.0\n",
      "202.0 97.0\n",
      "112.0 238.0\n",
      "224.0 163.0\n",
      "266.0 112.0\n",
      "80.0 237.0\n",
      "153.0 195.0\n",
      "213.0 139.0\n"
     ]
    },
    {
     "data": {
      "image/png": "[encoded data removed]",
      "text/plain": [
       "<Figure size 432x288 with 1 Axes>"
      ]
     },
     "metadata": {
      "needs_background": "light"
     },
     "output_type": "display_data"
    }
   ],
   "source": [
    "grid = np.copy(BW_Skeleton.astype(np.uint8))\n",
    "#k_img = np.copy(inv_img)\n",
    "for corner in corners:\n",
    "    x,y = corner.ravel()\n",
    "    print(x,y)\n",
    "    cv2.circle(grid,(x,y),3,255,-1)\n",
    "\n",
    "plt.imshow(grid)\n",
    "plt.show()\n"
   ]
  },
  {
   "cell_type": "markdown",
   "metadata": {},
   "source": [
    "# this code runs the function"
   ]
  },
  {
   "cell_type": "markdown",
   "metadata": {},
   "source": [
    "x,y = corners[0][0].astype(np.uint8)\n",
    "start = position_point(y,x)\n",
    "x,y = corners[5][0].astype(np.uint8)\n",
    "goal = position_point(y,x)\n",
    "print(x,y)\n",
    "a_star( grid, start, goal)"
   ]
  },
  {
   "cell_type": "markdown",
   "metadata": {},
   "source": [
    "# SOMEBODY ELSES IMPLEMENTATION OF ASTAR"
   ]
  },
  {
   "cell_type": "code",
   "execution_count": 138,
   "metadata": {},
   "outputs": [
    {
     "name": "stdout",
     "output_type": "stream",
     "text": [
      "+--+--+--+--+--+\n",
      "|####### |     |\n",
      "+--+  +# +--+  +\n",
      "|     |# | ### |\n",
      "+--+--+# + #+# +\n",
      "|  | ### | #|# |\n",
      "+  + #+--+ #+# +\n",
      "|  | #######|# |\n",
      "+  +--+--+--+# +\n",
      "|            ##|\n",
      "+--+--+--+--+--+\n",
      "\n"
     ]
    }
   ],
   "source": [
    "from astar import AStar\n",
    "import sys\n",
    "import math\n",
    "\n",
    "\n",
    "def make_maze(w=5, h=5):\n",
    "    \"\"\"returns an ascii maze as a string\"\"\"\n",
    "    from random import shuffle, randrange\n",
    "    vis = [[0] * w + [1] for _ in range(h)] + [[1] * (w + 1)]\n",
    "    ver = [[\"|  \"] * w + ['|'] for _ in range(h)] + [[]]\n",
    "    hor = [[\"+--\"] * w + ['+'] for _ in range(h + 1)]\n",
    "\n",
    "    def walk(x, y):\n",
    "        vis[y][x] = 1\n",
    "\n",
    "        d = [(x - 1, y), (x, y + 1), (x + 1, y), (x, y - 1)]\n",
    "        shuffle(d)\n",
    "        for (xx, yy) in d:\n",
    "            if vis[yy][xx]:\n",
    "                continue\n",
    "            if xx == x:\n",
    "                hor[max(y, yy)][x] = \"+  \"\n",
    "            if yy == y:\n",
    "                ver[y][max(x, xx)] = \"   \"\n",
    "            walk(xx, yy)\n",
    "\n",
    "    walk(randrange(w), randrange(h))\n",
    "    result = ''\n",
    "    for (a, b) in zip(hor, ver):\n",
    "        result = result + (''.join(a + ['\\n'] + b)) + '\\n'\n",
    "    return result.strip()\n",
    "\n",
    "\n",
    "def drawmaze(maze, set1=[], set2=[], c='#', c2='*'):\n",
    "    \"\"\"returns an ascii maze, drawing eventually one (or 2) sets of positions.\n",
    "        useful to draw the solution found by the astar algorithm\n",
    "    \"\"\"\n",
    "    set1 = list(set1)\n",
    "    set2 = list(set2)\n",
    "    lines = maze.strip().split('\\n')\n",
    "    width = len(lines[0])\n",
    "    height = len(lines)\n",
    "    result = ''\n",
    "    for j in range(height):\n",
    "        for i in range(width):\n",
    "            if (i, j) in set1:\n",
    "                result = result + c\n",
    "            elif (i, j) in set2:\n",
    "                result = result + c2\n",
    "            else:\n",
    "                result = result + lines[j][i]\n",
    "        result = result + '\\n'\n",
    "    return result\n",
    "\n",
    "\n",
    "class MazeSolver(AStar):\n",
    "\n",
    "    \"\"\"sample use of the astar algorithm. In this exemple we work on a maze made of ascii characters,\n",
    "    and a 'node' is just a (x,y) tuple that represents a reachable position\"\"\"\n",
    "\n",
    "    def __init__(self, maze):\n",
    "        self.lines = maze.strip().split('\\n')\n",
    "        self.width = len(self.lines[0])\n",
    "        self.height = len(self.lines)\n",
    "\n",
    "    def heuristic_cost_estimate(self, n1, n2):\n",
    "        \"\"\"computes the 'direct' distance between two (x,y) tuples\"\"\"\n",
    "        (x1, y1) = n1\n",
    "        (x2, y2) = n2\n",
    "        return math.hypot(x2 - x1, y2 - y1)\n",
    "\n",
    "    def distance_between(self, n1, n2):\n",
    "        \"\"\"this method always returns 1, as two 'neighbors' are always adajcent\"\"\"\n",
    "        return 1\n",
    "\n",
    "    def neighbors(self, node):\n",
    "        \"\"\" for a given coordinate in the maze, returns up to 4 adjacent(north,east,south,west)\n",
    "            nodes that can be reached (=any adjacent coordinate that is not a wall)\n",
    "        \"\"\"\n",
    "        x, y = node\n",
    "        return[(nx, ny) for nx, ny in[(x, y - 1), (x, y + 1), (x - 1, y), (x + 1, y)]if 0 <= nx < self.width and 0 <= ny < self.height and self.lines[ny][nx] == ' ']\n",
    "\n",
    "# generate an ascii maze\n",
    "size = 5\n",
    "m = make_maze(size, size)\n",
    "\n",
    "# what is the size of it?\n",
    "w = len(m.split('\\n')[0])\n",
    "h = len(m.split('\\n'))\n",
    "\n",
    "start = (1, 1)  # we choose to start at the upper left corner\n",
    "goal = (w - 2, h - 2)  # we want to reach the lower right corner\n",
    "\n",
    "# let's solve it\n",
    "foundPath = list(MazeSolver(m).astar(start, goal))\n",
    "\n",
    "# print the solution\n",
    "print(drawmaze(m, list(foundPath)))"
   ]
  },
  {
   "cell_type": "code",
   "execution_count": 14,
   "metadata": {},
   "outputs": [],
   "source": [
    "import cv2 as cv\n",
    "import numpy as np\n",
    "input_image = BW_Skeleton.astype(np.uint8)\n",
    "np.array((\n",
    "    [0, 0, 0, 0, 0, 0, 0, 0],\n",
    "    [0, 255, 255, 255, 0, 0, 0, 255],\n",
    "    [0, 255, 255, 255, 0, 0, 0, 0],\n",
    "    [0, 255, 255, 255, 0, 255, 0, 0],\n",
    "    [0, 0, 255, 0, 0, 0, 0, 0],\n",
    "    [0, 0, 255, 0, 0, 255, 255, 0],\n",
    "    [0,255, 0, 255, 0, 0, 255, 0],\n",
    "    [0, 255, 255, 255, 0, 0, 0, 0]), dtype=\"uint8\")\n",
    "kernel = np.array((\n",
    "        [0, 1, 0],\n",
    "        [1, -1, 1],\n",
    "        [0, 1, 0]), dtype=\"int\")\n",
    "output_image = cv.morphologyEx(input_image, cv.MORPH_HITMISS, kernel)\n",
    "\n",
    "\n",
    "rate = 50\n",
    "kernel = (kernel + 1) * 127\n",
    "kernel = np.uint8(kernel)\n",
    "kernel = cv.resize(kernel, None, fx = rate, fy = rate, interpolation = cv.INTER_NEAREST)\n",
    "cv.imshow(\"kernel\", kernel)\n",
    "cv.moveWindow(\"kernel\", 0, 0)\n",
    "input_image = cv.resize(input_image, None, fx = rate, fy = rate, interpolation = cv.INTER_NEAREST)\n",
    "cv.imshow(\"Original\", input_image)\n",
    "cv.moveWindow(\"Original\", 0, 200)\n",
    "output_image = cv.resize(output_image, None , fx = rate, fy = rate, interpolation = cv.INTER_NEAREST)\n",
    "cv.imshow(\"Hit or Miss\", output_image)\n",
    "cv.moveWindow(\"Hit or Miss\", 500, 200)\n",
    "cv.waitKey(0)\n",
    "cv.destroyAllWindows()"
   ]
  },
  {
   "cell_type": "code",
   "execution_count": 13,
   "metadata": {},
   "outputs": [
    {
     "data": {
      "text/plain": [
       "1"
      ]
     },
     "execution_count": 13,
     "metadata": {},
     "output_type": "execute_result"
    }
   ],
   "source": [
    "np.max(BW_Skeleton.astype(np.uint8))\n",
    "\n"
   ]
  },
  {
   "cell_type": "code",
   "execution_count": null,
   "metadata": {},
   "outputs": [],
   "source": []
  }
 ],
 "metadata": {
  "kernelspec": {
   "display_name": "Python 3",
   "language": "python",
   "name": "python3"
  },
  "language_info": {
   "codemirror_mode": {
    "name": "ipython",
    "version": 3
   },
   "file_extension": ".py",
   "mimetype": "text/x-python",
   "name": "python",
   "nbconvert_exporter": "python",
   "pygments_lexer": "ipython3",
   "version": "3.7.3"
  }
 },
 "nbformat": 4,
 "nbformat_minor": 2
}
