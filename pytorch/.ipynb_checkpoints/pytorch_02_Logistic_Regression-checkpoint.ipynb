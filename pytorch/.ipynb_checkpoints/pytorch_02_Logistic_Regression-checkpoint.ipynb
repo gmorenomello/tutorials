{
 "cells": [
  {
   "cell_type": "code",
   "execution_count": 88,
   "metadata": {},
   "outputs": [],
   "source": [
    "import numpy as np\n",
    "import matplotlib.pyplot as plt\n",
    "\n",
    "domain_size = 10\n",
    "x_train = np.arange(domain_size,dtype=np.float64)+32\n",
    "x_train[-1] = 55 # outlier\n",
    "#x_train = np.reshape(x_train, (domain_size,1))\n",
    "y_train = np.zeros(x_train.shape)\n",
    "y_train[x_train >= 37] = 1"
   ]
  },
  {
   "cell_type": "code",
   "execution_count": 89,
   "metadata": {},
   "outputs": [
    {
     "data": {
      "image/png": "[encoded data removed]",
      "text/plain": [
       "<Figure size 432x288 with 1 Axes>"
      ]
     },
     "metadata": {
      "needs_background": "light"
     },
     "output_type": "display_data"
    }
   ],
   "source": [
    "colors = np.random.rand(len(x_train))\n",
    "plt.plot(np.unique(x_train), np.poly1d(np.polyfit(x_train,y_train,1))(np.unique(x_train)))\n",
    "plt.ylabel(\"Fever\")\n",
    "plt.xlabel(\"Temperature\")\n",
    "\n",
    "plt.scatter(x_train, y_train,c=colors, alpha=0.5)\n",
    "plt.show()"
   ]
  },
  {
   "cell_type": "code",
   "execution_count": 90,
   "metadata": {},
   "outputs": [],
   "source": [
    "# Logistic regression explanation\n",
    "# input -> logit -> softmax (output probability) -> Truelabels\n",
    "# \"logistic function\" g(y)= 1/(1+e**-y) where y is your linear equation b1x+b0\n",
    "# g(y) = Estimated probability that y = 1 given x\n",
    "\n",
    "#Softmax function g()\n",
    "# Multi-class logistic regression\n",
    "# Generalization of logistic function\n",
    "\n",
    "# Cross entropy function\n",
    "# S prediction\n",
    "# L true label\n",
    "# Cross entropy D(S,L) = L*logS - (1-L)*log(1-S)\n",
    "# if L = 0(label)\n",
    "#    D(S,0)= -log(1-S)\n",
    "#        -log(1-S): less positive if S ->0\n",
    "#        -log(1-S): more positive if S ->1 (Bigger Loss)\n",
    "# if L = 1(label)\n",
    "#    D(S,1)= logS\n",
    "#        logS: less negative if S ->1\n",
    "#        logS: more negative if S ->1 (Bigger Loss)\n",
    "\n",
    "# Cross Entropy Loss L\n",
    "# the goal is to minimize the cross entropy loss\n",
    "# L = ( 1/N )* SUM(D(g(Bn*xi+B0),Li))\n",
    "# Where Bn are the coefficients, B0 the bias, N the number of observations, i the index of the observation\n",
    "# This equation is just summing all the distances and taking the average.\n",
    "\n"
   ]
  },
  {
   "cell_type": "code",
   "execution_count": 91,
   "metadata": {},
   "outputs": [
    {
     "data": {
      "text/plain": [
       "60000"
      ]
     },
     "execution_count": 91,
     "metadata": {},
     "output_type": "execute_result"
    }
   ],
   "source": [
    "###################################################################\n",
    "#  Import Libraries\n",
    "###################################################################\n",
    "# Logistic regressions are ussed in classification problems\n",
    "# The input might be anything and the output is the probability of belonging or not to a category\n",
    "\n",
    "#in linear regression the output is a numeric value given the input\n",
    "# in logistic regression the output is a probability [0,1] given input belonging to a class\n",
    "\n",
    "# 7 steps\n",
    "# load the data\n",
    "# make the dataset iterable\n",
    "# create the model class\n",
    "# instantiate the model\n",
    "# instantiate the loss class\n",
    "# instantiate the optimizer class\n",
    "# train the model\n",
    "\n",
    "import torch\n",
    "import torch.nn as nn\n",
    "import torchvision.transforms as transforms # this module will be used to transform the dataset into tensors\n",
    "import torchvision.datasets as dsets\n",
    "from torch.autograd import Variable\n",
    "\n",
    "'''\n",
    "STEP 1: LOADING DATASET\n",
    "'''\n",
    "# Loading the training dataset\n",
    "train_dataset = dsets.MNIST(root='./data', \n",
    "                            train=True, \n",
    "                            transform=transforms.ToTensor(), #using the torchvision.transforms\n",
    "                            download=True)\n",
    "\n",
    "len(train_dataset)\n",
    "# pytorch works best with iterable data to feed to the model\n",
    "# train_dataset is a dataset object\n",
    "# it has a list of tuples with two tensors\n",
    "# the first tensor is a 1,m,n image \n",
    "# the second tensor is a scalar with the value of the class\n"
   ]
  },
  {
   "cell_type": "code",
   "execution_count": 92,
   "metadata": {},
   "outputs": [
    {
     "data": {
      "text/plain": [
       "<matplotlib.image.AxesImage at 0x2228ba51fd0>"
      ]
     },
     "execution_count": 92,
     "metadata": {},
     "output_type": "execute_result"
    },
    {
     "data": {
      "image/png": "[encoded data removed]",
      "text/plain": [
       "<Figure size 432x288 with 1 Axes>"
      ]
     },
     "metadata": {
      "needs_background": "light"
     },
     "output_type": "display_data"
    }
   ],
   "source": [
    "train_dataset[0][0].size()\n",
    "train_dataset[0][1]\n",
    "import matplotlib.pylab as plt\n",
    "import numpy as np\n",
    "a = train_dataset[0][0].numpy().reshape(28,28)\n",
    "plt.imshow(a,cmap='bone')"
   ]
  },
  {
   "cell_type": "code",
   "execution_count": 93,
   "metadata": {},
   "outputs": [
    {
     "data": {
      "text/plain": [
       "Dataset MNIST\n",
       "    Number of datapoints: 60000\n",
       "    Split: train\n",
       "    Root Location: ./data\n",
       "    Transforms (if any): ToTensor()\n",
       "    Target Transforms (if any): None"
      ]
     },
     "execution_count": 93,
     "metadata": {},
     "output_type": "execute_result"
    }
   ],
   "source": [
    "(train_dataset)"
   ]
  },
  {
   "cell_type": "code",
   "execution_count": 94,
   "metadata": {},
   "outputs": [
    {
     "data": {
      "text/plain": [
       "<matplotlib.image.AxesImage at 0x222f4c76828>"
      ]
     },
     "execution_count": 94,
     "metadata": {},
     "output_type": "execute_result"
    },
    {
     "data": {
      "image/png": "[encoded data removed]",
      "text/plain": [
       "<Figure size 432x288 with 1 Axes>"
      ]
     },
     "metadata": {
      "needs_background": "light"
     },
     "output_type": "display_data"
    }
   ],
   "source": [
    "# Loading the test datased\n",
    "test_dataset = dsets.MNIST(root='./data', \n",
    "                           train=False, \n",
    "                           transform=transforms.ToTensor())\n",
    "len(test_dataset)\n",
    "img = test_dataset[0][0].numpy().reshape(28,28)\n",
    "plt.imshow(img, cmap='gray')"
   ]
  },
  {
   "cell_type": "code",
   "execution_count": 150,
   "metadata": {},
   "outputs": [
    {
     "name": "stdout",
     "output_type": "stream",
     "text": [
      "60000\n",
      "True\n"
     ]
    }
   ],
   "source": [
    "'''\n",
    "STEP 2: MAKING DATASET ITERABLE\n",
    "\n",
    "aim: make the dataset iterable\n",
    "totaldata: 60000\n",
    "\n",
    "minibatch: 100\n",
    "- a minibatch is the number of examples in 1 iteration.\n",
    "iteration: 3000\n",
    "- 1 iteration: one-minibatch forward & backward pass\n",
    "- forward is running the data through the network to generate the prediction\n",
    "- backward is once calculated the loss, update all the gradients and the weights.\n",
    "\n",
    "epoch\n",
    "- 1 epoch: running through the whole dataset once\n",
    "- epochs = iterations / (totaldata/minimbatch) = 3000 / (60000/100) = 5\n",
    "'''\n",
    "print(len(train_dataset))\n",
    "batch_size = 10\n",
    "n_iters = 9000\n",
    "num_epochs = n_iters / (len(train_dataset) / batch_size)\n",
    "num_epochs = int(num_epochs)\n",
    "\n",
    "# Create an iterable object for the training dataset\n",
    "# torch.utils.data.DataLoader \n",
    "# This class creates an iterable object with the dataset and the batch size\n",
    "train_loader = torch.utils.data.DataLoader(dataset=train_dataset, \n",
    "                                           batch_size=batch_size, \n",
    "                                           shuffle=True)\n",
    "\n",
    "#Check iterability\n",
    "import collections\n",
    "print(isinstance(train_loader, collections.Iterable))\n",
    "# train_loader is a generator of tensor lists. The first element is a tensor with images of letters\n",
    "# the second one is a one dimension vector with the labels\n",
    "\n",
    "# Create an iterable object for the testing dataset\n",
    "test_loader = torch.utils.data.DataLoader(dataset=test_dataset, \n",
    "                                          batch_size=batch_size, \n",
    "                                          shuffle=False)"
   ]
  },
  {
   "cell_type": "code",
   "execution_count": 151,
   "metadata": {
    "scrolled": true
   },
   "outputs": [
    {
     "name": "stdout",
     "output_type": "stream",
     "text": [
      "tensor([0, 3, 2, 5, 4, 4, 0, 1, 3, 9])\n"
     ]
    }
   ],
   "source": [
    "for i in train_loader:\n",
    "    print((i[1]))\n",
    "    break"
   ]
  },
  {
   "cell_type": "code",
   "execution_count": 152,
   "metadata": {},
   "outputs": [
    {
     "name": "stdout",
     "output_type": "stream",
     "text": [
      "(28, 28)\n",
      "(28, 28)\n"
     ]
    }
   ],
   "source": [
    "\"\"\"\n",
    "WHY DO WE CREATE AN ITERABLE OBJECT WITH THE DATASET?\n",
    "\n",
    "the main aim is to iterate through the Dataset\n",
    "\n",
    "\n",
    "\"\"\"\n",
    "img_1 = np.ones((28,28))\n",
    "img_2 = np.ones((28,28))\n",
    "lst = [img_1,img_2]\n",
    "# iterate through the data\n",
    "for i in lst:\n",
    "    print (i.shape)"
   ]
  },
  {
   "cell_type": "code",
   "execution_count": 153,
   "metadata": {},
   "outputs": [],
   "source": [
    "'''\n",
    "STEP 3: CREATE MODEL CLASS\n",
    "'''\n",
    "class LogisticRegressionModel(nn.Module):\n",
    "    def __init__(self, input_dim, output_dim):\n",
    "        super(LogisticRegressionModel, self).__init__()\n",
    "        self.linear = nn.Linear(input_dim, output_dim)\n",
    "        # remember a logistic regression model builds on top of the linear model. \n",
    "        # you just add a softmax function on top of it.\n",
    "    \n",
    "    def forward(self, x):\n",
    "        out = self.linear(x)\n",
    "        return out\n"
   ]
  },
  {
   "cell_type": "code",
   "execution_count": 154,
   "metadata": {},
   "outputs": [],
   "source": [
    "'''\n",
    "STEP 4: INSTANTIATE MODEL CLASS\n",
    "in this model we have a difference in the input dimension\n",
    "instead of having just one number, like in linear regression\n",
    "we use a 28 x 28 = 784 cells matrix\n",
    "This is the size of the MNIST image\n",
    "\n",
    "and the output cardinality (dimension) is 10\n",
    "0,1,2,3,4,5,6,7,8,9\n",
    "'''\n",
    "input_dim = 28*28\n",
    "output_dim = 10\n",
    "\n",
    "model = LogisticRegressionModel(input_dim, output_dim)\n",
    "\n",
    "#######################\n",
    "#  USE GPU FOR MODEL  #\n",
    "#######################\n",
    "\n",
    "if torch.cuda.is_available():\n",
    "    model.cuda()"
   ]
  },
  {
   "cell_type": "code",
   "execution_count": 155,
   "metadata": {},
   "outputs": [],
   "source": [
    "'''\n",
    "STEP 5: INSTANTIATE LOSS CLASS\n",
    "\n",
    "In Logistic regression we use the cross entropy loss. while in linear regresion we use the MSE or L-2\n",
    "'''\n",
    "\n",
    "criterion = nn.CrossEntropyLoss()\n",
    "# What happens in nn.CrossEntropyLoss()?\n",
    "# it automatically computes the softmax(logistic/softmax function)\n",
    "# computes cross entropy\n"
   ]
  },
  {
   "cell_type": "code",
   "execution_count": 156,
   "metadata": {},
   "outputs": [],
   "source": [
    "'''\n",
    "STEP 6: INSTANTIATE OPTIMIZER CLASS\n",
    "this is always the same?\n",
    "\n",
    "Simplified equation\n",
    "theta = theta - miu . DeltaTheta\n",
    "- Theta: parameters (our variables)\n",
    "- miu : learning rate(how fast we want to learn)\n",
    "- DeltaTheta: parameters gradient\n",
    "\n",
    "Even simplier equation\n",
    "- paramenters = parameters - learning rate * parameters_gradients\n",
    "- at every iteration, we update our model's parameters\n",
    "'''\n",
    "\n",
    "learning_rate = 0.001\n",
    "\n",
    "optimizer = torch.optim.SGD(model.parameters(), lr=learning_rate)"
   ]
  },
  {
   "cell_type": "code",
   "execution_count": 157,
   "metadata": {},
   "outputs": [
    {
     "name": "stdout",
     "output_type": "stream",
     "text": [
      "<generator object Module.parameters at 0x000002228BDF9B48>\n",
      "2\n",
      "torch.Size([10, 784])\n",
      "torch.Size([10])\n",
      "Parameter containing:\n",
      "tensor([ 0.0130,  0.0100,  0.0086,  0.0029, -0.0082, -0.0306, -0.0257, -0.0167,\n",
      "        -0.0175,  0.0199], device='cuda:0', requires_grad=True)\n"
     ]
    },
    {
     "data": {
      "text/plain": [
       "'\\nQuick dot product review:\\nif A = size(100,10)\\nB = (10,1)\\nA.B = (100,10) . (10.1) = (100,1)\\n\\nElementwise operations.\\n'"
      ]
     },
     "execution_count": 157,
     "metadata": {},
     "output_type": "execute_result"
    }
   ],
   "source": [
    "\"\"\"\n",
    "Parameters in Depth\n",
    "\n",
    "\"\"\"\n",
    "print(model.parameters())\n",
    "print(len(list(model.parameters())))\n",
    "\n",
    "#FC 1 parameters (coefficients of x) \n",
    "print(list(model.parameters())[0].size())\n",
    "\n",
    "# FC1 bias parameters ()\n",
    "print(list(model.parameters())[1].size())\n",
    "\n",
    "print(list(model.parameters())[1])\n",
    "\n",
    "\"\"\"\n",
    "Quick dot product review:\n",
    "if A = size(100,10)\n",
    "B = (10,1)\n",
    "A.B = (100,10) . (10.1) = (100,1)\n",
    "\n",
    "Elementwise operations.\n",
    "\"\"\"\n",
    "# in our model the input has the size of 784 (image) and the output is 10\n",
    "# so A*x+b = (10,784) . (784,1) +(10,1)\n",
    "# A = (10,784)\n",
    "# x = (784,1)\n",
    "# b = (10,1)"
   ]
  },
  {
   "cell_type": "code",
   "execution_count": 158,
   "metadata": {},
   "outputs": [
    {
     "name": "stdout",
     "output_type": "stream",
     "text": [
      "Iteration: 500. Loss: 1.9142248630523682. Accuracy: 65\n",
      "Iteration: 1000. Loss: 1.5418040752410889. Accuracy: 76\n",
      "Iteration: 1500. Loss: 1.1456151008605957. Accuracy: 79\n",
      "Iteration: 2000. Loss: 1.1280670166015625. Accuracy: 80\n",
      "Iteration: 2500. Loss: 1.0603115558624268. Accuracy: 82\n",
      "Iteration: 3000. Loss: 1.0384438037872314. Accuracy: 82\n",
      "Iteration: 3500. Loss: 0.7691559791564941. Accuracy: 83\n",
      "Iteration: 4000. Loss: 0.8503836393356323. Accuracy: 83\n",
      "Iteration: 4500. Loss: 1.1137745380401611. Accuracy: 84\n",
      "Iteration: 5000. Loss: 0.7793793082237244. Accuracy: 84\n",
      "Iteration: 5500. Loss: 0.5440720915794373. Accuracy: 85\n",
      "Iteration: 6000. Loss: 0.293224036693573. Accuracy: 85\n"
     ]
    }
   ],
   "source": [
    "'''\n",
    "STEP 7: TRAIN THE MODEL\n",
    "The full process\n",
    "1. Convert inputs(labels to variables)\n",
    "2. Clear gradient buffers\n",
    "3. Get output given inputs\n",
    "4. Get loss\n",
    "5. Get gradients with respect to parameters\n",
    "6. Update parametes using gradients\n",
    "- parameters = parameters - learning_rate * parameters_gradients\n",
    "7. Repeat\n",
    "'''\n",
    "iter = 0\n",
    "for epoch in range(num_epochs):\n",
    "    for i, (images, labels) in enumerate(train_loader):\n",
    "        \n",
    "        #######################\n",
    "        #  USE GPU FOR MODEL  #\n",
    "        #######################\n",
    "        if torch.cuda.is_available():\n",
    "            images = Variable(images.view(-1, 28*28).cuda())\n",
    "            labels = Variable(labels.cuda())\n",
    "        else:\n",
    "            images = Variable(images.view(-1, 28*28))\n",
    "            labels = Variable(labels)\n",
    "        \n",
    "        # Clear gradients w.r.t. parameters\n",
    "        optimizer.zero_grad()\n",
    "        \n",
    "        # Forward pass to get output/logits\n",
    "        outputs = model(images)\n",
    "        \n",
    "        # Calculate Loss: softmax --> cross entropy loss\n",
    "        loss = criterion(outputs, labels)\n",
    "        #print(loss)\n",
    "        \n",
    "        # Getting gradients w.r.t. parameters\n",
    "        loss.backward()\n",
    "        \n",
    "        # Updating parameters\n",
    "        optimizer.step()\n",
    "        \n",
    "        iter += 1\n",
    "        \n",
    "        if iter % 500 == 0:\n",
    "            #######################\n",
    "            # Calculate Accuracy  # \n",
    "            #######################\n",
    "            correct = 0\n",
    "            total = 0\n",
    "            # Iterate through test dataset\n",
    "            for images, labels in test_loader:\n",
    "                #######################\n",
    "                #  USE GPU FOR MODEL  #\n",
    "                #######################\n",
    "                images = Variable(images.view(-1, 28*28).cuda())\n",
    "                \n",
    "                # Forward pass only to get logits/output\n",
    "                outputs = model(images)\n",
    "                \n",
    "                # Get predictions from the maximum value\n",
    "                # torch.max(matrix,1) will return as second return the index of the column of the element with larges\n",
    "                # value\n",
    "                _, predicted = torch.max(outputs.data, 1)\n",
    "                \n",
    "                # Total number of labels\n",
    "                total += labels.size(0)\n",
    "                \n",
    "                #######################\n",
    "                #  USE GPU FOR MODEL  #\n",
    "                #######################\n",
    "                # Total correct predictions\n",
    "                if tourch.cuda.is_available():\n",
    "                    correct += (predicted.cpu() == labels.cpu()).sum()\n",
    "                else:\n",
    "                    correct += (predicted == labels).sum()\n",
    "            # The accuracy is essentially the proportion of correct predictions over the total predictions\n",
    "            accuracy = 100 * correct / total\n",
    "            \n",
    "            # Print Loss\n",
    "            print('Iteration: {}. Loss: {}. Accuracy: {}'.format(iter, loss.data.cpu().numpy(), accuracy))"
   ]
  },
  {
   "cell_type": "code",
   "execution_count": 159,
   "metadata": {},
   "outputs": [
    {
     "name": "stdout",
     "output_type": "stream",
     "text": [
      "torch.Size([10, 10])\n"
     ]
    }
   ],
   "source": [
    "100 * correct / total\n",
    "print((outputs.data.size()))"
   ]
  },
  {
   "cell_type": "code",
   "execution_count": 139,
   "metadata": {},
   "outputs": [
    {
     "name": "stdout",
     "output_type": "stream",
     "text": [
      "tensor([8, 9, 0, 1, 4, 7, 4, 5, 6, 7, 8, 0, 8, 2, 3, 4, 7, 8, 9, 7, 8, 6, 4, 1,\n",
      "        4, 7, 2, 4, 4, 7, 0, 1, 9, 2, 8, 7, 8, 2, 6, 0, 0, 6, 3, 5, 8, 9, 1, 4,\n",
      "        0, 6, 1, 0, 0, 0, 0, 8, 1, 7, 7, 3, 4, 6, 0, 7, 0, 3, 6, 8, 7, 1, 3, 2,\n",
      "        4, 9, 4, 2, 6, 4, 1, 7, 2, 6, 6, 0, 1, 2, 8, 4, 5, 6, 7, 8, 4, 0, 1, 2,\n",
      "        3, 4, 8, 6], device='cuda:0')\n"
     ]
    }
   ],
   "source": [
    "_ ,a = torch.max(outputs.data,1)\n",
    "print(a)"
   ]
  },
  {
   "cell_type": "code",
   "execution_count": 140,
   "metadata": {},
   "outputs": [
    {
     "data": {
      "text/plain": [
       "tensor([-1.7112, -2.3129, -1.2588, -0.3256,  1.9867,  0.4748, -1.2334,  0.3778,\n",
       "         1.2296,  2.5893], device='cuda:0')"
      ]
     },
     "execution_count": 140,
     "metadata": {},
     "output_type": "execute_result"
    }
   ],
   "source": [
    "outputs.data[1]\n"
   ]
  },
  {
   "cell_type": "markdown",
   "metadata": {},
   "source": [
    "# Break down accuracy calculation"
   ]
  },
  {
   "cell_type": "code",
   "execution_count": 141,
   "metadata": {},
   "outputs": [
    {
     "name": "stdout",
     "output_type": "stream",
     "text": [
      "OUTPUTS\n",
      "tensor([[-3.0472e-01, -2.1223e+00, -6.9842e-01, -5.2112e-02, -1.7934e-01,\n",
      "         -5.6558e-01, -2.0788e+00,  4.7111e+00, -4.3222e-01,  1.4220e+00],\n",
      "        [ 8.4508e-01, -2.8492e-01,  2.9942e+00,  1.6921e+00, -3.1208e+00,\n",
      "          1.3958e+00,  2.1982e+00, -3.2342e+00,  6.3249e-01, -2.6854e+00],\n",
      "        [-1.3408e+00,  3.4861e+00,  3.2176e-01,  1.5240e-01, -1.0850e+00,\n",
      "         -5.2142e-01, -2.8940e-01, -2.8135e-01,  3.3089e-01, -5.4214e-01],\n",
      "        [ 4.7567e+00, -4.1510e+00, -6.5326e-02, -6.4061e-01, -1.8337e+00,\n",
      "          1.3717e+00,  1.7201e+00,  5.3545e-01, -9.2654e-01, -5.3146e-01],\n",
      "        [-3.0444e-01, -3.3412e+00,  4.2712e-01, -1.1843e+00,  2.6361e+00,\n",
      "         -8.5168e-01, -4.0178e-03,  6.1945e-01,  1.2767e-01,  1.0666e+00],\n",
      "        [-2.0410e+00,  4.1713e+00,  2.2299e-01,  3.5474e-01, -1.2505e+00,\n",
      "         -7.1705e-01, -1.2129e+00,  4.2741e-02,  6.3513e-01, -2.6545e-01],\n",
      "        [-2.0104e+00, -2.1280e+00, -1.5263e+00,  3.7151e-01,  2.4226e+00,\n",
      "          6.4379e-01, -1.3104e+00,  8.1602e-01,  1.0849e+00,  1.2724e+00],\n",
      "        [-2.4301e+00, -7.2302e-01, -1.1054e+00, -4.5667e-01,  1.4938e+00,\n",
      "          7.9206e-01,  9.3044e-02, -1.1779e-01,  1.1420e-01,  1.9171e+00],\n",
      "        [ 3.6969e-01, -7.9983e-01,  1.2877e+00, -2.1691e+00,  9.0071e-01,\n",
      "          2.5645e-01,  1.3933e+00, -1.8129e+00,  9.4493e-02,  2.0335e-01],\n",
      "        [-7.5966e-01, -1.9040e+00, -2.0004e+00, -1.9020e+00,  1.8425e+00,\n",
      "         -1.4543e-01, -1.0371e+00,  2.7299e+00, -2.1757e-02,  3.1761e+00],\n",
      "        [ 4.8216e+00, -3.0243e+00,  9.1133e-01,  1.3870e+00, -1.5917e+00,\n",
      "          2.0648e+00, -9.9709e-01, -2.1489e+00,  1.1613e+00, -3.2554e+00],\n",
      "        [ 8.3347e-01, -8.5513e-01,  6.9684e-01, -1.5106e-01,  3.5248e-01,\n",
      "         -6.4825e-01,  1.0799e+00, -1.8410e+00,  6.4834e-01, -1.2482e+00],\n",
      "        [-1.1293e+00, -2.8155e+00, -1.4331e+00, -1.7415e+00,  2.3248e+00,\n",
      "         -1.1457e-01, -6.7307e-01,  1.4801e+00,  3.7699e-01,  3.5383e+00],\n",
      "        [ 4.7419e+00, -4.1556e+00, -3.2514e-01, -1.0508e+00, -7.6747e-01,\n",
      "          1.3340e+00, -6.1529e-01, -9.0010e-01,  1.2570e+00,  5.6372e-01],\n",
      "        [-2.1999e+00,  4.1741e+00, -3.4036e-02,  9.6505e-01, -1.9338e+00,\n",
      "         -2.3461e-01, -1.5413e-01, -3.8762e-01,  3.4461e-01, -3.5483e-01],\n",
      "        [ 5.7062e-01, -1.4098e+00, -6.9458e-02,  1.5788e+00, -8.5362e-01,\n",
      "          1.8359e+00, -8.7642e-01, -7.5470e-01,  7.5871e-01, -1.5985e+00],\n",
      "        [-6.6617e-01, -3.5512e+00, -7.4139e-03, -1.0157e+00,  1.8658e+00,\n",
      "         -1.1339e+00, -6.0810e-01,  1.3096e+00,  3.3563e-01,  2.8341e+00],\n",
      "        [ 5.5436e-01, -2.5153e+00, -9.7237e-01,  1.0110e+00, -7.7045e-01,\n",
      "         -4.0841e-01, -1.3967e+00,  4.6129e+00, -8.3833e-01,  7.1654e-01],\n",
      "        [-1.3010e+00, -6.2051e-01,  1.3455e-01,  2.0701e+00, -1.0038e+00,\n",
      "          8.3113e-01,  1.2493e+00, -1.0403e+00,  2.9355e-01, -6.9945e-01],\n",
      "        [-1.5537e+00, -2.4805e+00, -8.3050e-01, -4.8756e-01,  3.4174e+00,\n",
      "         -1.2283e-02, -3.9218e-01, -4.1326e-03, -2.4586e-01,  2.0120e+00],\n",
      "        [-1.3070e+00, -1.2155e+00, -2.5435e+00,  1.7379e-01,  8.2478e-01,\n",
      "          6.2569e-01, -2.5548e+00,  2.5340e+00,  3.6644e-01,  2.7987e+00],\n",
      "        [-9.3805e-01, -2.6209e+00,  8.7309e-02,  1.5088e-01,  6.9427e-01,\n",
      "          1.2126e+00,  3.4086e+00, -2.5566e+00,  4.8936e-01, -1.1661e-01],\n",
      "        [-7.8310e-01,  1.8741e-01,  5.7247e-01, -1.0098e+00,  1.4220e+00,\n",
      "         -2.0406e+00,  2.0337e+00, -1.5001e-01, -3.5760e-01, -2.9731e-01],\n",
      "        [ 1.0690e-01, -1.9772e+00, -8.6414e-01,  6.2712e-01, -3.6012e-02,\n",
      "          2.6453e+00,  4.3563e-01, -1.7789e+00,  1.2187e+00, -1.0424e-02],\n",
      "        [-1.1904e+00, -1.8122e+00, -7.9044e-02, -1.6405e-01,  2.2699e+00,\n",
      "         -5.2934e-01, -4.1351e-01,  5.6299e-01, -3.8958e-01,  1.4234e+00],\n",
      "        [ 6.6588e+00, -4.7753e+00,  9.6152e-01, -2.1312e+00, -4.6490e-01,\n",
      "          2.3281e+00,  1.6848e+00, -1.3590e+00,  2.9600e-02, -2.3954e+00],\n",
      "        [-4.0685e-01, -2.0283e+00, -6.7290e-01,  1.1073e-01,  9.5084e-02,\n",
      "         -1.9631e-01, -1.0383e+00,  2.9547e+00, -8.0691e-01,  1.8604e+00],\n",
      "        [-7.5650e-01, -3.7401e+00, -7.5323e-01, -1.3325e+00,  4.0258e+00,\n",
      "          1.7414e-01,  6.5293e-02, -2.4416e-01,  1.4308e-01,  2.4091e+00],\n",
      "        [ 4.5354e+00, -4.0389e+00,  5.3361e-01,  1.3081e+00, -2.2449e+00,\n",
      "          1.5252e+00, -6.0777e-01, -1.0064e+00,  1.3276e+00, -8.3867e-01],\n",
      "        [-1.8664e+00,  2.4349e+00, -5.6468e-01,  3.1086e-01, -7.1592e-01,\n",
      "          4.9941e-01,  3.0656e-01, -3.1672e-01,  7.2052e-01, -5.2974e-01],\n",
      "        [-1.3983e+00, -5.7551e-01, -1.3791e+00,  3.9690e+00, -2.1526e+00,\n",
      "          1.6528e+00, -1.0150e+00,  8.1503e-01,  1.7371e-01, -1.3367e-01],\n",
      "        [-1.8179e+00,  1.8869e+00, -5.0038e-01,  6.2559e-01, -5.6567e-01,\n",
      "          2.3708e-01, -2.7470e-01,  1.5609e-01,  2.0413e-01,  2.2610e-01],\n",
      "        [-1.7207e+00, -1.4209e+00, -9.5926e-01,  3.7404e+00, -6.1529e-01,\n",
      "          2.4615e+00, -9.3598e-01, -1.7718e+00,  8.9289e-01, -3.9122e-01],\n",
      "        [ 2.5253e+00, -2.8557e+00,  1.0574e+00, -3.1716e+00,  1.2502e+00,\n",
      "          5.6026e-01,  2.2786e+00, -1.5530e+00, -1.8889e-02, -8.7303e-01],\n",
      "        [-1.4453e+00, -8.5795e-01,  1.0964e+00, -1.7405e-01, -2.0309e-01,\n",
      "         -6.6812e-01, -2.5390e+00,  3.1183e+00,  7.2327e-01,  1.0756e+00],\n",
      "        [ 5.3723e-01, -1.8052e+00,  4.4227e+00,  5.2474e-01, -1.2397e+00,\n",
      "          7.0235e-01,  6.0597e-01, -5.4279e-01,  3.9935e-01, -3.0235e+00],\n",
      "        [-8.5664e-01, -2.6901e+00,  3.0572e-01,  2.0498e-01, -3.6588e-01,\n",
      "         -5.1151e-01, -8.9320e-01,  3.8177e+00, -2.6954e-01,  1.7024e+00],\n",
      "        [-2.3415e+00,  3.4255e+00, -6.8505e-01,  2.5804e-01, -1.0918e+00,\n",
      "          1.3384e-01, -8.3498e-02,  4.7742e-02,  6.0899e-01, -1.1638e-01],\n",
      "        [ 6.9805e-01,  5.0705e-01,  1.6897e+00,  1.9660e+00, -3.2696e+00,\n",
      "          7.6433e-01,  7.2991e-01, -2.0069e+00,  1.1061e+00, -2.2399e+00],\n",
      "        [-2.1117e+00,  4.4145e+00, -3.5288e-01,  7.4000e-01, -2.3408e+00,\n",
      "         -5.2470e-03, -1.9049e-01, -9.2151e-01,  1.1730e+00, -3.9273e-01],\n",
      "        [-1.1657e+00,  2.5980e+00, -2.4617e-02,  1.2775e-01, -9.6796e-01,\n",
      "         -1.9710e-01, -9.3846e-02, -2.3194e-01,  9.6418e-02, -2.8568e-01],\n",
      "        [-1.3953e+00, -1.6400e+00, -1.2926e-01, -4.4557e-01, -2.2324e-01,\n",
      "         -4.1914e-01, -1.0815e+00,  3.3259e+00, -4.9324e-01,  2.0395e+00],\n",
      "        [-3.4133e+00, -8.3829e-01, -6.2936e-01, -6.2934e-01,  3.6952e+00,\n",
      "         -1.1941e+00, -1.4633e+00,  8.3416e-01,  5.8113e-01,  2.2948e+00],\n",
      "        [-7.2289e-01,  1.2093e+00,  2.1177e+00, -1.3694e-01, -4.4936e-01,\n",
      "         -6.5094e-01,  3.7402e-01, -1.8666e+00,  8.8237e-01, -9.4177e-01],\n",
      "        [-1.7177e+00,  1.0617e-01, -4.9796e-02,  2.2011e+00, -1.1073e+00,\n",
      "          8.3973e-01,  5.1654e-01, -4.1064e-01, -4.6998e-02, -8.1015e-01],\n",
      "        [ 3.7989e-01, -2.2021e+00, -9.9341e-01,  2.4677e+00, -6.7071e-01,\n",
      "          2.4971e+00, -2.5044e-01, -2.1637e+00,  1.5253e+00, -4.6269e-01],\n",
      "        [-2.8920e+00,  6.0614e-01,  2.4955e-02,  1.4321e+00, -1.8940e-01,\n",
      "          6.9829e-01,  1.0775e-02, -1.2449e-01,  4.3039e-01,  1.9474e-01],\n",
      "        [-1.1582e+00, -7.8559e-01,  2.6135e+00, -6.0929e-01,  8.4512e-01,\n",
      "         -9.1262e-01,  1.0882e+00, -6.4520e-01, -1.5907e-01,  1.4530e-01],\n",
      "        [-2.0691e+00, -4.5640e+00, -2.6875e+00, -1.8144e-01,  4.5792e+00,\n",
      "          7.1669e-01, -1.3872e+00,  2.8150e-01,  1.1815e+00,  3.2377e+00],\n",
      "        [-7.5019e-01, -3.3074e+00,  6.8312e-01, -1.1624e+00,  3.8343e+00,\n",
      "         -1.8259e+00,  2.7732e-01,  3.9608e-01, -3.6789e-01,  1.4913e+00],\n",
      "        [ 3.8486e-01, -1.9815e+00,  3.6616e-01,  5.0475e-01, -7.5061e-01,\n",
      "          9.0034e-01,  3.6820e+00, -1.8399e+00, -7.0283e-02, -7.8929e-01],\n",
      "        [-2.7778e-01, -1.7516e+00, -4.2231e-01,  3.0907e+00, -1.1166e+00,\n",
      "          1.3372e+00, -6.8667e-02, -7.9772e-01, -3.9425e-01,  1.7208e-01],\n",
      "        [ 7.6672e-01, -2.1923e+00, -2.2307e+00, -1.7895e-01,  1.2083e+00,\n",
      "          2.5885e+00, -3.7867e-01, -6.0664e-01, -9.3596e-02,  6.1348e-01],\n",
      "        [ 4.6532e-01, -1.4057e+00, -7.8229e-01,  1.2271e+00,  7.9798e-02,\n",
      "          1.2601e+00, -3.9009e-01, -1.0270e+00,  8.9349e-01, -5.4696e-01],\n",
      "        [-1.7799e-01, -7.4796e-01,  2.1101e+00, -3.3489e-02,  6.4023e-01,\n",
      "         -1.5509e+00,  1.6111e+00, -1.0207e+00,  2.6888e-01, -6.8391e-01],\n",
      "        [ 2.6784e+00, -4.0132e+00, -8.8684e-01,  3.3239e-01, -1.1751e+00,\n",
      "          1.9547e+00,  3.7236e-01, -1.5106e+00,  2.3860e+00, -1.4944e-01],\n",
      "        [-4.3800e-01, -4.3215e+00, -2.3501e-01, -1.0338e+00,  4.4661e+00,\n",
      "         -1.3185e-01,  4.2750e-01, -5.7921e-01,  4.8443e-02,  1.2167e+00],\n",
      "        [-1.3211e+00,  3.5456e+00,  1.5749e-01,  4.5576e-01, -1.5566e+00,\n",
      "         -4.5292e-01, -8.6693e-01, -2.0227e-01,  4.6949e-01, -7.8822e-02],\n",
      "        [-3.0259e-01, -3.1407e+00, -1.6937e+00, -1.5251e+00,  2.6230e+00,\n",
      "         -6.4698e-01, -1.9139e-01,  1.7480e+00, -4.7364e-01,  3.5912e+00],\n",
      "        [ 2.5091e-01,  2.4254e-01, -8.0481e-01, -8.1776e-01,  5.5792e-01,\n",
      "          1.0358e+00, -7.1644e-01,  5.6023e-01,  1.6202e-01, -3.9704e-01],\n",
      "        [-7.0486e-01, -2.5387e+00, -1.2197e+00,  1.2034e+00, -9.9059e-02,\n",
      "         -6.9413e-02, -7.1429e-01,  3.6361e+00, -9.5188e-01,  6.9245e-01],\n",
      "        [ 1.9251e-01, -1.7449e+00,  1.8995e+00, -2.5164e+00, -2.2596e-01,\n",
      "          4.4234e-01,  8.9441e-01, -1.3728e+00,  2.2486e+00,  6.4124e-01],\n",
      "        [-1.4565e+00, -1.6813e+00,  1.2823e-01, -6.7062e-01,  1.1365e+00,\n",
      "          3.9739e-01, -1.8863e-01, -2.5640e-01,  6.7999e-01,  1.6490e+00],\n",
      "        [-1.1693e+00, -4.2025e-01,  2.1413e+00,  1.2873e+00, -2.1998e-01,\n",
      "         -1.3951e-01, -7.1337e-01, -1.1504e+00,  5.7275e-01,  4.4925e-01],\n",
      "        [-1.4195e+00, -1.6447e+00,  4.6585e-01, -5.2492e-01,  1.3749e+00,\n",
      "         -8.0124e-01, -1.0360e+00,  2.6888e+00,  4.4449e-02,  1.1390e+00],\n",
      "        [-1.7571e+00, -1.3142e+00, -9.2958e-01,  7.7250e-01,  1.1712e+00,\n",
      "          7.2316e-01, -8.4449e-02, -6.4398e-01,  8.6546e-01,  1.3903e+00],\n",
      "        [ 6.5555e-01, -3.1300e-01,  1.2116e+00, -7.8298e-02,  5.6162e-01,\n",
      "         -1.1528e+00,  1.0774e+00,  4.7127e-01, -6.6586e-01, -1.1871e+00],\n",
      "        [-9.9506e-01, -2.2234e+00,  5.6570e-01, -1.6105e+00,  3.5780e+00,\n",
      "         -1.6381e+00, -3.9110e-01,  4.2095e-01,  2.7893e-01,  1.3015e+00],\n",
      "        [-2.0102e+00, -1.2297e+00, -5.5680e-01,  4.3218e+00, -7.5041e-01,\n",
      "          1.6566e+00, -1.8133e+00, -1.4748e+00,  1.6096e+00, -2.3607e-01],\n",
      "        [ 4.0629e+00, -2.2148e+00,  9.4179e-01, -7.8136e-01, -2.5549e+00,\n",
      "          1.5687e+00,  6.9717e-01, -6.4646e-02, -1.2717e-01, -4.3646e-01],\n",
      "        [ 8.3143e-01, -2.1239e+00, -1.2846e+00,  5.2410e-01, -5.7995e-01,\n",
      "         -5.7906e-01, -1.5320e+00,  4.6268e+00, -7.1582e-01,  6.1558e-01],\n",
      "        [ 6.6777e+00, -4.5540e+00,  1.5754e+00,  1.9545e-01, -1.8921e+00,\n",
      "          2.3779e+00,  1.0305e-01, -2.3393e+00,  1.0471e+00, -2.5179e+00],\n",
      "        [ 2.3384e+00, -1.7810e+00,  3.2440e+00,  2.3017e+00, -1.9441e+00,\n",
      "          2.5647e-01,  6.2239e-01, -1.3585e+00,  3.5941e-01, -3.6541e+00],\n",
      "        [-2.0476e+00,  7.3677e-01,  3.9809e-02, -3.2679e-02, -1.4329e+00,\n",
      "         -4.8038e-01, -1.8026e+00,  1.4669e+00,  1.7867e+00,  1.3482e+00],\n",
      "        [-2.2898e+00,  3.5957e+00, -6.2544e-01,  1.3405e-01, -1.5653e+00,\n",
      "          2.4022e-01, -1.5847e-01, -2.1634e-01,  9.1808e-01, -2.2709e-01],\n",
      "        [-2.8402e+00,  7.1885e-01, -7.5963e-01, -9.1627e-01,  1.3655e+00,\n",
      "         -8.5451e-01, -1.3636e+00,  2.8805e+00,  1.1595e-01,  9.3616e-01],\n",
      "        [-2.8494e-01,  8.2327e-03, -4.9901e-01,  3.6160e+00, -1.7122e+00,\n",
      "          1.9270e+00, -1.0633e+00, -1.6907e+00,  1.0740e+00, -1.3624e+00],\n",
      "        [-1.6331e+00, -7.6659e-01,  1.3090e+00, -8.9030e-01, -3.0840e-01,\n",
      "         -6.8039e-01, -3.6490e-02,  2.6752e+00, -7.0358e-01,  9.7890e-01],\n",
      "        [-2.4504e+00,  1.1328e+00, -1.6036e+00,  1.3535e-01, -2.6133e-01,\n",
      "          1.4306e-01, -1.1714e+00,  4.3133e-01,  1.3599e+00,  1.4353e+00],\n",
      "        [-7.1979e-01, -1.4753e+00, -1.1453e+00, -1.5940e+00, -3.5701e-01,\n",
      "         -2.5625e-01, -2.5255e+00,  5.7902e+00,  2.7716e-01,  1.4540e+00],\n",
      "        [-8.2198e-01, -2.9766e+00, -1.8478e+00, -3.0006e-01,  1.3876e+00,\n",
      "          9.7183e-01, -7.3708e-01,  2.4851e+00, -1.0510e+00,  2.8372e+00],\n",
      "        [ 3.8336e-02, -3.1800e+00,  1.1736e+00, -1.1293e+00,  3.7961e-01,\n",
      "          6.2146e-01,  3.8353e+00, -8.4926e-01, -4.6204e-01,  6.3732e-02],\n",
      "        [-9.7703e-01, -2.1590e+00,  6.5714e+00, -2.6380e-01, -2.3395e-01,\n",
      "         -1.7395e+00,  1.2988e+00, -1.3686e+00,  8.7201e-01, -2.3386e+00],\n",
      "        [-8.8722e-01, -2.8823e+00, -1.1261e+00, -7.6017e-02,  8.9043e-01,\n",
      "         -1.5428e-01, -1.4886e+00,  3.6633e+00, -6.8793e-01,  2.5432e+00],\n",
      "        [-1.4164e+00, -2.9592e-01, -8.8195e-01, -1.0653e+00,  9.5090e-01,\n",
      "          1.3388e+00, -9.6320e-01, -1.1985e+00,  2.0743e+00,  6.4320e-01],\n",
      "        [-1.8409e+00, -4.0001e+00, -1.9124e+00,  9.6445e-02,  5.0849e+00,\n",
      "          1.8802e-01, -5.3662e-01, -9.4872e-01,  7.2742e-01,  2.1289e+00],\n",
      "        [-2.7902e+00,  4.3542e-01, -5.6146e-01, -9.5558e-01, -3.2373e-01,\n",
      "         -1.2103e+00, -2.2510e+00,  5.0055e+00,  4.6542e-01,  1.5896e+00],\n",
      "        [-3.1520e-01, -2.3678e+00, -1.8840e+00,  2.6417e+00, -6.0874e-01,\n",
      "          2.1176e+00,  7.1288e-01, -8.3408e-01, -2.6972e-01, -4.2484e-01],\n",
      "        [-7.0699e-01, -3.4815e+00,  1.2196e+00, -2.1478e+00,  1.9946e+00,\n",
      "         -7.7835e-01,  4.0544e+00, -4.3591e-01, -8.0718e-01,  3.3326e-01],\n",
      "        [-2.5637e+00,  4.5169e+00,  7.0582e-01,  1.5473e-01, -1.0235e+00,\n",
      "         -7.0975e-01, -4.6275e-01, -4.9433e-01,  7.7133e-01, -9.0397e-01],\n",
      "        [ 3.4944e-01, -1.2340e+00, -3.0708e-01,  4.5515e+00, -2.1448e+00,\n",
      "          1.6518e+00, -2.6493e+00, -6.1602e-01,  1.2857e+00, -1.0245e+00],\n",
      "        [-1.4801e+00, -1.0588e+00,  6.1796e-01, -1.4368e+00,  7.5414e-01,\n",
      "         -9.6180e-02,  4.2347e+00, -2.1103e+00,  1.8464e-01,  9.8774e-02],\n",
      "        [-1.4570e+00, -1.8324e-01,  1.3976e-01, -7.9524e-01,  9.3115e-01,\n",
      "          1.0448e-02, -4.5524e-01, -3.2122e-01,  1.0905e+00,  9.3798e-01],\n",
      "        [-1.2950e+00, -1.3044e+00, -1.1311e+00,  4.3691e+00, -2.6244e+00,\n",
      "          2.2956e+00, -2.2556e+00,  1.0499e+00,  8.1884e-01, -8.2598e-02],\n",
      "        [-3.6339e+00,  2.8312e+00, -1.1388e-01,  3.7945e-01, -7.4967e-01,\n",
      "          2.1865e-01,  4.8035e-01, -6.5228e-01,  1.3993e+00, -1.1313e-01],\n",
      "        [-1.5994e+00, -7.1579e-01, -8.7156e-01, -2.2747e+00,  3.8479e+00,\n",
      "         -1.0543e+00,  5.5651e-01, -4.8894e-02, -2.2847e-01,  1.9822e+00],\n",
      "        [-2.0866e+00,  9.7972e-01, -7.2543e-01,  6.0172e-01, -1.9133e-01,\n",
      "          5.6418e-01, -2.9616e-01,  2.2092e-01,  6.1790e-01,  4.1104e-01],\n",
      "        [-3.0679e+00,  1.8796e+00, -1.1093e+00,  4.3134e-01, -4.5646e-01,\n",
      "         -1.7638e-01, -3.4837e-01,  1.3844e+00,  2.8209e-01,  8.1996e-01],\n",
      "        [ 1.4269e+00, -2.0822e+00,  1.2984e+00, -1.7761e+00, -3.2527e-01,\n",
      "          1.4015e+00,  3.3582e+00, -1.7876e+00,  1.6707e-01, -1.3334e+00],\n",
      "        [-2.1499e+00, -2.8527e+00,  1.1374e-01, -9.2324e-01,  2.1990e+00,\n",
      "         -1.7958e+00, -7.5010e-01,  1.4457e+00,  1.5701e-01,  3.9299e+00]],\n"
     ]
    },
    {
     "name": "stdout",
     "output_type": "stream",
     "text": [
      "       device='cuda:0', grad_fn=<AddmmBackward>)\n"
     ]
    }
   ],
   "source": [
    "iter_test = 0\n",
    "for images, labels in test_loader:\n",
    "    iter_test += 1\n",
    "    images = Variable(images.view(-1, 28*28).cuda())\n",
    "    outputs = model(images)\n",
    "    if iter_test == 1:\n",
    "        print('OUTPUTS')\n",
    "        print(outputs)\n",
    "    _, predicted = torch.max(outputs.data, 1)"
   ]
  },
  {
   "cell_type": "code",
   "execution_count": 142,
   "metadata": {},
   "outputs": [
    {
     "name": "stdout",
     "output_type": "stream",
     "text": [
      "OUTPUTS\n",
      "torch.Size([100, 10])\n"
     ]
    }
   ],
   "source": [
    "iter_test = 0\n",
    "for images, labels in test_loader:\n",
    "    iter_test += 1\n",
    "    images = Variable(images.view(-1, 28*28).cuda())\n",
    "    outputs = model(images)\n",
    "    if iter_test == 1:\n",
    "        print('OUTPUTS')\n",
    "        print(outputs.size()) # the batch feeds 100 images at a time to the model\n",
    "    _, predicted = torch.max(outputs.data, 1)"
   ]
  },
  {
   "cell_type": "code",
   "execution_count": 143,
   "metadata": {},
   "outputs": [
    {
     "name": "stdout",
     "output_type": "stream",
     "text": [
      "OUTPUTS\n",
      "tensor([-0.3047, -2.1223, -0.6984, -0.0521, -0.1793, -0.5656, -2.0788,  4.7111,\n",
      "        -0.4322,  1.4220], device='cuda:0', grad_fn=<SliceBackward>)\n"
     ]
    }
   ],
   "source": [
    "iter_test = 0\n",
    "for images, labels in test_loader:\n",
    "    iter_test += 1\n",
    "    images = Variable(images.view(-1, 28*28).cuda())\n",
    "    outputs = model(images)\n",
    "    if iter_test == 1:\n",
    "        print('OUTPUTS')\n",
    "        print(outputs[0,:]) #in one particular image\n",
    "    _, predicted = torch.max(outputs.data, 1)"
   ]
  },
  {
   "cell_type": "code",
   "execution_count": 147,
   "metadata": {},
   "outputs": [
    {
     "name": "stdout",
     "output_type": "stream",
     "text": [
      "PREDICTION\n",
      "tensor(7, device='cuda:0')\n",
      "LABEL FOR IMAGE 0\n",
      "tensor(7)\n"
     ]
    }
   ],
   "source": [
    "iter_test = 0\n",
    "for images, labels in test_loader:\n",
    "    iter_test += 1\n",
    "    images = Variable(images.view(-1, 28*28).cuda())\n",
    "    outputs = model(images)\n",
    "    _, predicted = torch.max(outputs.data, 1)\n",
    "    if iter_test == 1:\n",
    "        print('PREDICTION')\n",
    "        print(predicted[0])\n",
    "        print('LABEL FOR IMAGE 0')\n",
    "        print(labels[0])\n",
    "    "
   ]
  },
  {
   "cell_type": "code",
   "execution_count": 145,
   "metadata": {},
   "outputs": [
    {
     "data": {
      "text/plain": [
       "tensor([7, 2, 1, 0, 4, 1, 4, 9, 6, 9, 0, 6, 9, 0, 1, 5, 9, 7, 3, 4, 9, 6, 6, 5,\n",
       "        4, 0, 7, 4, 0, 1, 3, 1, 3, 0, 7, 2, 7, 1, 3, 1, 1, 7, 4, 2, 3, 5, 3, 2,\n",
       "        4, 4, 6, 3, 5, 5, 2, 0, 4, 1, 9, 5, 7, 8, 9, 2, 7, 9, 2, 4, 3, 0, 7, 0,\n",
       "        2, 8, 1, 7, 3, 7, 9, 7, 9, 6, 2, 7, 8, 4, 7, 3, 6, 1, 3, 6, 8, 3, 1, 4,\n",
       "        1, 1, 6, 9], device='cuda:0')"
      ]
     },
     "execution_count": 145,
     "metadata": {},
     "output_type": "execute_result"
    }
   ],
   "source": [
    "predicted"
   ]
  },
  {
   "cell_type": "code",
   "execution_count": 149,
   "metadata": {},
   "outputs": [],
   "source": [
    "#############################\n",
    "#    SAVE THE MODEL\n",
    "#############################\n",
    "\n",
    "save_model = True\n",
    "if save_model == True:\n",
    "    torch.save(model.state_dict(),'my_awesomeLogisticmodel.pkl')"
   ]
  },
  {
   "cell_type": "code",
   "execution_count": null,
   "metadata": {},
   "outputs": [],
   "source": []
  }
 ],
 "metadata": {
  "kernelspec": {
   "display_name": "Python 3",
   "language": "python",
   "name": "python3"
  },
  "language_info": {
   "codemirror_mode": {
    "name": "ipython",
    "version": 3
   },
   "file_extension": ".py",
   "mimetype": "text/x-python",
   "name": "python",
   "nbconvert_exporter": "python",
   "pygments_lexer": "ipython3",
   "version": "3.6.7"
  }
 },
 "nbformat": 4,
 "nbformat_minor": 2
}
