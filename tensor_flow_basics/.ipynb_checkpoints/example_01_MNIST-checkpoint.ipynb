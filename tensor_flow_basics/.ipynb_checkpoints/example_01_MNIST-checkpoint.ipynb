{
 "cells": [
  {
   "cell_type": "markdown",
   "metadata": {},
   "source": [
    "## Import Libraries"
   ]
  },
  {
   "cell_type": "code",
   "execution_count": 2,
   "metadata": {},
   "outputs": [],
   "source": [
    "import tensorflow as tf\n"
   ]
  },
  {
   "cell_type": "markdown",
   "metadata": {},
   "source": [
    "## import the dataset"
   ]
  },
  {
   "cell_type": "code",
   "execution_count": 5,
   "metadata": {},
   "outputs": [],
   "source": [
    "mnist = tf.keras.datasets.mnist"
   ]
  },
  {
   "cell_type": "markdown",
   "metadata": {},
   "source": [
    "## split the data between train and test datasets"
   ]
  },
  {
   "cell_type": "code",
   "execution_count": 6,
   "metadata": {},
   "outputs": [
    {
     "name": "stdout",
     "output_type": "stream",
     "text": [
      "Downloading data from https://storage.googleapis.com/tensorflow/tf-keras-datasets/mnist.npz\n",
      "11493376/11490434 [==============================] - 1s 0us/step\n"
     ]
    }
   ],
   "source": [
    "(x_train, y_train),(x_test, y_test) = mnist.load_data()\n",
    "x_train, x_test = x_train / 255.0, x_test /255.0\n"
   ]
  },
  {
   "cell_type": "markdown",
   "metadata": {},
   "source": [
    "## build the topology of the model. \n",
    "#### how many layers\n",
    "#### what type of layers\n",
    "#### what is the activation function of every layer"
   ]
  },
  {
   "cell_type": "code",
   "execution_count": 11,
   "metadata": {},
   "outputs": [],
   "source": [
    "model = tf.keras.models.Sequential([ #Using keras, a sequential model.\n",
    "    tf.keras.layers.Flatten(),\n",
    "    tf.keras.layers.Dense(512, activation = tf.nn.relu),\n",
    "    tf.keras.layers.Dropout(0.2),\n",
    "    tf.keras.layers.Dense(10, activation=tf.nn.softmax)\n",
    "])"
   ]
  },
  {
   "cell_type": "markdown",
   "metadata": {},
   "source": [
    "## compile the network. by specifying the optimizaiton algorithm, the loss function and the metrics of accuracy."
   ]
  },
  {
   "cell_type": "code",
   "execution_count": 12,
   "metadata": {},
   "outputs": [],
   "source": [
    "\n",
    "model.compile(optimizer = 'adam',\n",
    "             loss = 'sparse_categorical_crossentropy',\n",
    "             metrics = ['accuracy'])\n"
   ]
  },
  {
   "cell_type": "markdown",
   "metadata": {},
   "source": [
    "## fit the model to the training data"
   ]
  },
  {
   "cell_type": "code",
   "execution_count": 18,
   "metadata": {},
   "outputs": [
    {
     "name": "stdout",
     "output_type": "stream",
     "text": [
      "Epoch 1/15\n",
      "60000/60000 [==============================] - 5s 76us/step - loss: 0.0077 - acc: 0.9976\n",
      "Epoch 2/15\n",
      "60000/60000 [==============================] - 5s 76us/step - loss: 0.0085 - acc: 0.9973\n",
      "Epoch 3/15\n",
      "60000/60000 [==============================] - 5s 77us/step - loss: 0.0047 - acc: 0.9985\n",
      "Epoch 4/15\n",
      "60000/60000 [==============================] - 5s 76us/step - loss: 0.0058 - acc: 0.9983\n",
      "Epoch 5/15\n",
      "60000/60000 [==============================] - 5s 76us/step - loss: 0.0069 - acc: 0.9976\n",
      "Epoch 6/15\n",
      "60000/60000 [==============================] - 5s 77us/step - loss: 0.0053 - acc: 0.9985\n",
      "Epoch 7/15\n",
      "60000/60000 [==============================] - 5s 76us/step - loss: 0.0058 - acc: 0.9984\n",
      "Epoch 8/15\n",
      "60000/60000 [==============================] - 5s 76us/step - loss: 0.0058 - acc: 0.9981\n",
      "Epoch 9/15\n",
      "60000/60000 [==============================] - 5s 76us/step - loss: 0.0062 - acc: 0.9979\n",
      "Epoch 10/15\n",
      "60000/60000 [==============================] - 5s 75us/step - loss: 0.0055 - acc: 0.9982\n",
      "Epoch 11/15\n",
      "60000/60000 [==============================] - 5s 76us/step - loss: 0.0054 - acc: 0.9985\n",
      "Epoch 12/15\n",
      "60000/60000 [==============================] - 5s 77us/step - loss: 0.0042 - acc: 0.9988\n",
      "Epoch 13/15\n",
      "60000/60000 [==============================] - 5s 77us/step - loss: 0.0054 - acc: 0.9984\n",
      "Epoch 14/15\n",
      "60000/60000 [==============================] - 5s 76us/step - loss: 0.0057 - acc: 0.9985\n",
      "Epoch 15/15\n",
      "60000/60000 [==============================] - 4s 75us/step - loss: 0.0050 - acc: 0.9985\n"
     ]
    },
    {
     "data": {
      "text/plain": [
       "<tensorflow.python.keras.callbacks.History at 0x22bdf08df98>"
      ]
     },
     "execution_count": 18,
     "metadata": {},
     "output_type": "execute_result"
    }
   ],
   "source": [
    "model.fit(x_train, y_train, epochs = 15, verbose=1)\n"
   ]
  },
  {
   "cell_type": "markdown",
   "metadata": {},
   "source": [
    "## Evaluate the models performance"
   ]
  },
  {
   "cell_type": "code",
   "execution_count": 19,
   "metadata": {},
   "outputs": [
    {
     "name": "stdout",
     "output_type": "stream",
     "text": [
      "10000/10000 [==============================] - 0s 39us/step\n"
     ]
    },
    {
     "data": {
      "text/plain": [
       "[0.11441342626237237, 0.9839]"
      ]
     },
     "execution_count": 19,
     "metadata": {},
     "output_type": "execute_result"
    }
   ],
   "source": [
    "model.evaluate(x_test,y_test)"
   ]
  },
  {
   "cell_type": "code",
   "execution_count": 20,
   "metadata": {},
   "outputs": [
    {
     "data": {
      "text/plain": [
       "array([[3.1668831e-23, 5.5551968e-21, 9.8401426e-19, ..., 1.0000000e+00,\n",
       "        6.0003679e-22, 1.1981125e-16],\n",
       "       [1.4995054e-24, 7.7302586e-24, 1.0000000e+00, ..., 0.0000000e+00,\n",
       "        4.9270189e-30, 0.0000000e+00],\n",
       "       [2.0420095e-18, 1.0000000e+00, 7.1679988e-13, ..., 5.6281338e-14,\n",
       "        2.8234435e-13, 6.4139508e-21],\n",
       "       ...,\n",
       "       [8.6304779e-38, 5.9238985e-24, 1.1207785e-33, ..., 2.9758217e-20,\n",
       "        8.8782967e-21, 8.6867874e-17],\n",
       "       [1.7435765e-23, 7.2740963e-34, 7.8850609e-34, ..., 1.4148581e-25,\n",
       "        3.6117159e-16, 7.3453043e-36],\n",
       "       [2.3055781e-29, 7.7405780e-34, 1.8342567e-31, ..., 0.0000000e+00,\n",
       "        2.7171682e-33, 9.6555253e-34]], dtype=float32)"
      ]
     },
     "execution_count": 20,
     "metadata": {},
     "output_type": "execute_result"
    }
   ],
   "source": [
    "model.predict(x_test)"
   ]
  },
  {
   "cell_type": "code",
   "execution_count": 21,
   "metadata": {},
   "outputs": [
    {
     "data": {
      "text/plain": [
       "array([[[0., 0., 0., ..., 0., 0., 0.],\n",
       "        [0., 0., 0., ..., 0., 0., 0.],\n",
       "        [0., 0., 0., ..., 0., 0., 0.],\n",
       "        ...,\n",
       "        [0., 0., 0., ..., 0., 0., 0.],\n",
       "        [0., 0., 0., ..., 0., 0., 0.],\n",
       "        [0., 0., 0., ..., 0., 0., 0.]],\n",
       "\n",
       "       [[0., 0., 0., ..., 0., 0., 0.],\n",
       "        [0., 0., 0., ..., 0., 0., 0.],\n",
       "        [0., 0., 0., ..., 0., 0., 0.],\n",
       "        ...,\n",
       "        [0., 0., 0., ..., 0., 0., 0.],\n",
       "        [0., 0., 0., ..., 0., 0., 0.],\n",
       "        [0., 0., 0., ..., 0., 0., 0.]],\n",
       "\n",
       "       [[0., 0., 0., ..., 0., 0., 0.],\n",
       "        [0., 0., 0., ..., 0., 0., 0.],\n",
       "        [0., 0., 0., ..., 0., 0., 0.],\n",
       "        ...,\n",
       "        [0., 0., 0., ..., 0., 0., 0.],\n",
       "        [0., 0., 0., ..., 0., 0., 0.],\n",
       "        [0., 0., 0., ..., 0., 0., 0.]],\n",
       "\n",
       "       ...,\n",
       "\n",
       "       [[0., 0., 0., ..., 0., 0., 0.],\n",
       "        [0., 0., 0., ..., 0., 0., 0.],\n",
       "        [0., 0., 0., ..., 0., 0., 0.],\n",
       "        ...,\n",
       "        [0., 0., 0., ..., 0., 0., 0.],\n",
       "        [0., 0., 0., ..., 0., 0., 0.],\n",
       "        [0., 0., 0., ..., 0., 0., 0.]],\n",
       "\n",
       "       [[0., 0., 0., ..., 0., 0., 0.],\n",
       "        [0., 0., 0., ..., 0., 0., 0.],\n",
       "        [0., 0., 0., ..., 0., 0., 0.],\n",
       "        ...,\n",
       "        [0., 0., 0., ..., 0., 0., 0.],\n",
       "        [0., 0., 0., ..., 0., 0., 0.],\n",
       "        [0., 0., 0., ..., 0., 0., 0.]],\n",
       "\n",
       "       [[0., 0., 0., ..., 0., 0., 0.],\n",
       "        [0., 0., 0., ..., 0., 0., 0.],\n",
       "        [0., 0., 0., ..., 0., 0., 0.],\n",
       "        ...,\n",
       "        [0., 0., 0., ..., 0., 0., 0.],\n",
       "        [0., 0., 0., ..., 0., 0., 0.],\n",
       "        [0., 0., 0., ..., 0., 0., 0.]]])"
      ]
     },
     "execution_count": 21,
     "metadata": {},
     "output_type": "execute_result"
    }
   ],
   "source": [
    "x_test"
   ]
  },
  {
   "cell_type": "code",
   "execution_count": null,
   "metadata": {},
   "outputs": [],
   "source": []
  },
  {
   "cell_type": "code",
   "execution_count": null,
   "metadata": {},
   "outputs": [],
   "source": []
  }
 ],
 "metadata": {
  "kernelspec": {
   "display_name": "Python 3",
   "language": "python",
   "name": "python3"
  },
  "language_info": {
   "codemirror_mode": {
    "name": "ipython",
    "version": 3
   },
   "file_extension": ".py",
   "mimetype": "text/x-python",
   "name": "python",
   "nbconvert_exporter": "python",
   "pygments_lexer": "ipython3",
   "version": "3.6.7"
  }
 },
 "nbformat": 4,
 "nbformat_minor": 2
}
