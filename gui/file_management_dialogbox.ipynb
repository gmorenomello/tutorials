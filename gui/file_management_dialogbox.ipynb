{
 "cells": [
  {
   "cell_type": "markdown",
   "metadata": {},
   "source": [
    "# tkinter tutorial on file dialogs\n",
    "This tutorial describes how to use gui for file opening, file saving and folder opening"
   ]
  },
  {
   "cell_type": "code",
   "execution_count": 12,
   "metadata": {},
   "outputs": [],
   "source": [
    "#Required libraries\n",
    "from tkinter import filedialog\n",
    "from tkinter import *\n",
    "\n",
    "\n",
    "\n",
    "def quit(self):\n",
    "    self.root.destroy()\n"
   ]
  },
  {
   "cell_type": "markdown",
   "metadata": {},
   "source": [
    "### Open directory\n",
    "Opening folder and returning the folder name as a string"
   ]
  },
  {
   "cell_type": "code",
   "execution_count": 17,
   "metadata": {},
   "outputs": [
    {
     "name": "stdout",
     "output_type": "stream",
     "text": [
      "/System/Library/CoreServices/UAUPlugins\n"
     ]
    }
   ],
   "source": [
    "# starts the root Tk() object\n",
    "root = Tk()\n",
    "def open_directory(root):\n",
    "    \"\"\"\n",
    "    Defineds the function that opens the dialog for directory\n",
    "    \"\"\"\n",
    "    root.directory = filedialog.askdirectory()\n",
    "    print (root.directory)\n",
    "    \n",
    "# call the directory dialog box and return the value to a gui property \n",
    "Button(root, text=\"Open Folder\", command= lambda:open_directory(root)).pack()\n",
    "Button(root, text=\"Quit\", command=root.destroy).pack()\n",
    "\n",
    "\n",
    "#print (root.directory)\n",
    "root.mainloop()\n"
   ]
  },
  {
   "cell_type": "markdown",
   "metadata": {},
   "source": [
    "### Open filename"
   ]
  },
  {
   "cell_type": "code",
   "execution_count": null,
   "metadata": {},
   "outputs": [],
   "source": [
    "# starts the root Tk() object\n",
    "root = Tk()\n",
    "def open_filename(root):\n",
    "    \"\"\"\n",
    "    Defineds the function that opens the dialog for filetypes\n",
    "    \"\"\"\n",
    "    root.filename =  filedialog.askopenfilename(initialdir = \"/\",\n",
    "                                                title = \"Select file\",\n",
    "                                                filetypes = ((\"jpeg files\",\"*.jpg\"),(\"all files\",\"*.*\")))\n",
    "    print (root.filename)\n",
    "    \n",
    "# call the directory dialog box and return the value to a gui property \n",
    "Button(root, text=\"Open File\", command= lambda:open_filename(root)).pack()\n",
    "Button(root, text=\"Quit\", command=root.destroy).pack()\n",
    "\n",
    "\n",
    "#print (root.directory)\n",
    "root.mainloop()"
   ]
  },
  {
   "cell_type": "markdown",
   "metadata": {},
   "source": [
    "### Save as filename"
   ]
  },
  {
   "cell_type": "code",
   "execution_count": null,
   "metadata": {},
   "outputs": [],
   "source": [
    "# starts the root Tk() object\n",
    "root = Tk()\n",
    "def save_as_filename(root):\n",
    "    \"\"\"\n",
    "    Defineds the function that opens the dialog for filetypes\n",
    "    \"\"\"\n",
    "    root.filename =  filedialog.asksaveasfilename(initialdir = \"/\",\n",
    "                                                  title = \"Select file\",\n",
    "                                                  filetypes = ((\"jpeg files\",\"*.jpg\"),(\"all files\",\"*.*\")))\n",
    "    print (root.filename)\n",
    "    \n",
    "# call the directory dialog box and return the value to a gui property \n",
    "Button(root, text=\"Open File\", command= lambda:save_as_filename(root)).pack()\n",
    "Button(root, text=\"Quit\", command=root.destroy).pack()\n",
    "\n",
    "\n",
    "#print (root.directory)\n",
    "root.mainloop()"
   ]
  },
  {
   "cell_type": "code",
   "execution_count": null,
   "metadata": {},
   "outputs": [],
   "source": []
  }
 ],
 "metadata": {
  "kernelspec": {
   "display_name": "Python 3",
   "language": "python",
   "name": "python3"
  },
  "language_info": {
   "codemirror_mode": {
    "name": "ipython",
    "version": 3
   },
   "file_extension": ".py",
   "mimetype": "text/x-python",
   "name": "python",
   "nbconvert_exporter": "python",
   "pygments_lexer": "ipython3",
   "version": "3.6.6"
  }
 },
 "nbformat": 4,
 "nbformat_minor": 2
}
