{
 "cells": [
  {
   "cell_type": "markdown",
   "metadata": {},
   "source": [
    "## IMPORTING LIBRARIES"
   ]
  },
  {
   "cell_type": "code",
   "execution_count": 60,
   "metadata": {},
   "outputs": [],
   "source": [
    "import matplotlib.pyplot as plt\n",
    "import numpy as np\n",
    "import pandas as pd\n",
    "import os"
   ]
  },
  {
   "cell_type": "markdown",
   "metadata": {},
   "source": [
    "## LOADING DATA"
   ]
  },
  {
   "cell_type": "code",
   "execution_count": 86,
   "metadata": {},
   "outputs": [
    {
     "data": {
      "text/html": [
       "<div>\n",
       "<style scoped>\n",
       "    .dataframe tbody tr th:only-of-type {\n",
       "        vertical-align: middle;\n",
       "    }\n",
       "\n",
       "    .dataframe tbody tr th {\n",
       "        vertical-align: top;\n",
       "    }\n",
       "\n",
       "    .dataframe thead th {\n",
       "        text-align: right;\n",
       "    }\n",
       "</style>\n",
       "<table border=\"1\" class=\"dataframe\">\n",
       "  <thead>\n",
       "    <tr style=\"text-align: right;\">\n",
       "      <th></th>\n",
       "      <th>date_time</th>\n",
       "      <th>sensor</th>\n",
       "      <th>event</th>\n",
       "    </tr>\n",
       "  </thead>\n",
       "  <tbody>\n",
       "    <tr>\n",
       "      <th>0</th>\n",
       "      <td>2018-07-09 01:11:11</td>\n",
       "      <td>32</td>\n",
       "      <td>1</td>\n",
       "    </tr>\n",
       "    <tr>\n",
       "      <th>1</th>\n",
       "      <td>2018-07-09 01:11:12</td>\n",
       "      <td>2</td>\n",
       "      <td>1</td>\n",
       "    </tr>\n",
       "    <tr>\n",
       "      <th>2</th>\n",
       "      <td>2018-07-09 01:11:19</td>\n",
       "      <td>1</td>\n",
       "      <td>1</td>\n",
       "    </tr>\n",
       "    <tr>\n",
       "      <th>3</th>\n",
       "      <td>2018-07-09 01:12:44</td>\n",
       "      <td>1</td>\n",
       "      <td>1</td>\n",
       "    </tr>\n",
       "    <tr>\n",
       "      <th>4</th>\n",
       "      <td>2018-07-09 01:13:01</td>\n",
       "      <td>2</td>\n",
       "      <td>1</td>\n",
       "    </tr>\n",
       "  </tbody>\n",
       "</table>\n",
       "</div>"
      ],
      "text/plain": [
       "             date_time  sensor  event\n",
       "0  2018-07-09 01:11:11      32      1\n",
       "1  2018-07-09 01:11:12       2      1\n",
       "2  2018-07-09 01:11:19       1      1\n",
       "3  2018-07-09 01:12:44       1      1\n",
       "4  2018-07-09 01:13:01       2      1"
      ]
     },
     "execution_count": 86,
     "metadata": {},
     "output_type": "execute_result"
    }
   ],
   "source": [
    "file_path = '/Volumes/OsloMet'\n",
    "file_name = '203.csv'\n",
    "full_file_name = os.path.join(file_path,file_name)\n",
    "event = pd.read_csv(full_file_name,sep=';', names=['date_time', 'sensor','event'])\n",
    "event.head()"
   ]
  },
  {
   "cell_type": "markdown",
   "metadata": {},
   "source": [
    "## PRE PROCESSING\n",
    "### Change data_time column datatype from string to datetime"
   ]
  },
  {
   "cell_type": "code",
   "execution_count": 87,
   "metadata": {},
   "outputs": [
    {
     "name": "stdout",
     "output_type": "stream",
     "text": [
      "<class 'pandas.core.series.Series'>\n"
     ]
    },
    {
     "data": {
      "text/plain": [
       "0   2018-07-09 01:11:11\n",
       "1   2018-07-09 01:11:12\n",
       "2   2018-07-09 01:11:19\n",
       "3   2018-07-09 01:12:44\n",
       "4   2018-07-09 01:13:01\n",
       "Name: date_time, dtype: datetime64[ns]"
      ]
     },
     "execution_count": 87,
     "metadata": {},
     "output_type": "execute_result"
    }
   ],
   "source": [
    "event['date_time'] = pd.to_datetime(event['date_time'])\n",
    "print(type(event['date_time']))\n",
    "event['date_time'].head()"
   ]
  },
  {
   "cell_type": "markdown",
   "metadata": {},
   "source": [
    "### Adjust time offset.\n",
    "This sensor event table is two ours ahead of the time in the video. Video timestamps reflect UTC while the timestamps of the sensor reflect time in local Norwegian time. Oslo (2 hours ahead because of summer time)"
   ]
  },
  {
   "cell_type": "code",
   "execution_count": 88,
   "metadata": {},
   "outputs": [
    {
     "data": {
      "text/plain": [
       "0   2018-07-09 01:11:11\n",
       "1   2018-07-09 01:11:12\n",
       "2   2018-07-09 01:11:19\n",
       "3   2018-07-09 01:12:44\n",
       "4   2018-07-09 01:13:01\n",
       "Name: date_time, dtype: datetime64[ns]"
      ]
     },
     "execution_count": 88,
     "metadata": {},
     "output_type": "execute_result"
    }
   ],
   "source": [
    "event['date_time'] = event['date_time'][:] #- pd.to_timedelta(2,unit='h')\n",
    "event['date_time'].head()"
   ]
  },
  {
   "cell_type": "markdown",
   "metadata": {},
   "source": [
    "### Split the date_time column into two columns date and time\n",
    "This will allow us to do analysis by hours of the day."
   ]
  },
  {
   "cell_type": "code",
   "execution_count": 89,
   "metadata": {},
   "outputs": [
    {
     "data": {
      "text/html": [
       "<div>\n",
       "<style scoped>\n",
       "    .dataframe tbody tr th:only-of-type {\n",
       "        vertical-align: middle;\n",
       "    }\n",
       "\n",
       "    .dataframe tbody tr th {\n",
       "        vertical-align: top;\n",
       "    }\n",
       "\n",
       "    .dataframe thead th {\n",
       "        text-align: right;\n",
       "    }\n",
       "</style>\n",
       "<table border=\"1\" class=\"dataframe\">\n",
       "  <thead>\n",
       "    <tr style=\"text-align: right;\">\n",
       "      <th></th>\n",
       "      <th>date_time</th>\n",
       "      <th>sensor</th>\n",
       "      <th>event</th>\n",
       "      <th>date</th>\n",
       "      <th>time</th>\n",
       "    </tr>\n",
       "  </thead>\n",
       "  <tbody>\n",
       "    <tr>\n",
       "      <th>0</th>\n",
       "      <td>2018-07-09 01:11:11</td>\n",
       "      <td>32</td>\n",
       "      <td>1</td>\n",
       "      <td>2018-07-09</td>\n",
       "      <td>01:11:11</td>\n",
       "    </tr>\n",
       "    <tr>\n",
       "      <th>1</th>\n",
       "      <td>2018-07-09 01:11:12</td>\n",
       "      <td>2</td>\n",
       "      <td>1</td>\n",
       "      <td>2018-07-09</td>\n",
       "      <td>01:11:12</td>\n",
       "    </tr>\n",
       "    <tr>\n",
       "      <th>2</th>\n",
       "      <td>2018-07-09 01:11:19</td>\n",
       "      <td>1</td>\n",
       "      <td>1</td>\n",
       "      <td>2018-07-09</td>\n",
       "      <td>01:11:19</td>\n",
       "    </tr>\n",
       "    <tr>\n",
       "      <th>3</th>\n",
       "      <td>2018-07-09 01:12:44</td>\n",
       "      <td>1</td>\n",
       "      <td>1</td>\n",
       "      <td>2018-07-09</td>\n",
       "      <td>01:12:44</td>\n",
       "    </tr>\n",
       "    <tr>\n",
       "      <th>4</th>\n",
       "      <td>2018-07-09 01:13:01</td>\n",
       "      <td>2</td>\n",
       "      <td>1</td>\n",
       "      <td>2018-07-09</td>\n",
       "      <td>01:13:01</td>\n",
       "    </tr>\n",
       "  </tbody>\n",
       "</table>\n",
       "</div>"
      ],
      "text/plain": [
       "            date_time  sensor  event        date      time\n",
       "0 2018-07-09 01:11:11      32      1  2018-07-09  01:11:11\n",
       "1 2018-07-09 01:11:12       2      1  2018-07-09  01:11:12\n",
       "2 2018-07-09 01:11:19       1      1  2018-07-09  01:11:19\n",
       "3 2018-07-09 01:12:44       1      1  2018-07-09  01:12:44\n",
       "4 2018-07-09 01:13:01       2      1  2018-07-09  01:13:01"
      ]
     },
     "execution_count": 89,
     "metadata": {},
     "output_type": "execute_result"
    }
   ],
   "source": [
    "event['date']= [d.date() for d in event['date_time']]\n",
    "event['time']= [d.time() for d in event['date_time']]\n",
    "event.head()"
   ]
  },
  {
   "cell_type": "markdown",
   "metadata": {},
   "source": [
    "### Add room information\n",
    "Here we segregate the sensors by room\n"
   ]
  },
  {
   "cell_type": "code",
   "execution_count": 90,
   "metadata": {},
   "outputs": [
    {
     "name": "stderr",
     "output_type": "stream",
     "text": [
      "/Users/gbmello/anaconda3/lib/python3.6/site-packages/ipykernel_launcher.py:3: SettingWithCopyWarning: \n",
      "A value is trying to be set on a copy of a slice from a DataFrame\n",
      "\n",
      "See the caveats in the documentation: http://pandas.pydata.org/pandas-docs/stable/indexing.html#indexing-view-versus-copy\n",
      "  This is separate from the ipykernel package so we can avoid doing imports until\n",
      "/Users/gbmello/anaconda3/lib/python3.6/site-packages/ipykernel_launcher.py:4: SettingWithCopyWarning: \n",
      "A value is trying to be set on a copy of a slice from a DataFrame\n",
      "\n",
      "See the caveats in the documentation: http://pandas.pydata.org/pandas-docs/stable/indexing.html#indexing-view-versus-copy\n",
      "  after removing the cwd from sys.path.\n"
     ]
    },
    {
     "data": {
      "text/html": [
       "<div>\n",
       "<style scoped>\n",
       "    .dataframe tbody tr th:only-of-type {\n",
       "        vertical-align: middle;\n",
       "    }\n",
       "\n",
       "    .dataframe tbody tr th {\n",
       "        vertical-align: top;\n",
       "    }\n",
       "\n",
       "    .dataframe thead th {\n",
       "        text-align: right;\n",
       "    }\n",
       "</style>\n",
       "<table border=\"1\" class=\"dataframe\">\n",
       "  <thead>\n",
       "    <tr style=\"text-align: right;\">\n",
       "      <th></th>\n",
       "      <th>date_time</th>\n",
       "      <th>sensor</th>\n",
       "      <th>event</th>\n",
       "      <th>date</th>\n",
       "      <th>time</th>\n",
       "      <th>rm0009</th>\n",
       "      <th>rm0010</th>\n",
       "    </tr>\n",
       "  </thead>\n",
       "  <tbody>\n",
       "    <tr>\n",
       "      <th>0</th>\n",
       "      <td>2018-07-09 01:11:11</td>\n",
       "      <td>32</td>\n",
       "      <td>1</td>\n",
       "      <td>2018-07-09</td>\n",
       "      <td>01:11:11</td>\n",
       "      <td>1</td>\n",
       "      <td>0</td>\n",
       "    </tr>\n",
       "    <tr>\n",
       "      <th>1</th>\n",
       "      <td>2018-07-09 01:11:12</td>\n",
       "      <td>2</td>\n",
       "      <td>1</td>\n",
       "      <td>2018-07-09</td>\n",
       "      <td>01:11:12</td>\n",
       "      <td>1</td>\n",
       "      <td>0</td>\n",
       "    </tr>\n",
       "    <tr>\n",
       "      <th>2</th>\n",
       "      <td>2018-07-09 01:11:19</td>\n",
       "      <td>1</td>\n",
       "      <td>1</td>\n",
       "      <td>2018-07-09</td>\n",
       "      <td>01:11:19</td>\n",
       "      <td>0</td>\n",
       "      <td>0</td>\n",
       "    </tr>\n",
       "    <tr>\n",
       "      <th>3</th>\n",
       "      <td>2018-07-09 01:12:44</td>\n",
       "      <td>1</td>\n",
       "      <td>1</td>\n",
       "      <td>2018-07-09</td>\n",
       "      <td>01:12:44</td>\n",
       "      <td>0</td>\n",
       "      <td>0</td>\n",
       "    </tr>\n",
       "    <tr>\n",
       "      <th>4</th>\n",
       "      <td>2018-07-09 01:13:01</td>\n",
       "      <td>2</td>\n",
       "      <td>1</td>\n",
       "      <td>2018-07-09</td>\n",
       "      <td>01:13:01</td>\n",
       "      <td>1</td>\n",
       "      <td>0</td>\n",
       "    </tr>\n",
       "  </tbody>\n",
       "</table>\n",
       "</div>"
      ],
      "text/plain": [
       "            date_time  sensor  event        date      time  rm0009  rm0010\n",
       "0 2018-07-09 01:11:11      32      1  2018-07-09  01:11:11       1       0\n",
       "1 2018-07-09 01:11:12       2      1  2018-07-09  01:11:12       1       0\n",
       "2 2018-07-09 01:11:19       1      1  2018-07-09  01:11:19       0       0\n",
       "3 2018-07-09 01:12:44       1      1  2018-07-09  01:12:44       0       0\n",
       "4 2018-07-09 01:13:01       2      1  2018-07-09  01:13:01       1       0"
      ]
     },
     "execution_count": 90,
     "metadata": {},
     "output_type": "execute_result"
    }
   ],
   "source": [
    "event['rm0009'] = np.zeros(event['sensor'].shape)\n",
    "event['rm0010'] = np.zeros(event['sensor'].shape)\n",
    "event.rm0009[(event['sensor'].isin([2,3,11,19,32]))] += 1\n",
    "event.rm0010[(event.sensor.isin([4,5,9,12,21,22,23,24,26,27,28,29,30,31]))] += 1\n",
    "event.rm0010 = event.rm0010.astype('int8')\n",
    "event.rm0009 = event.rm0009.astype('int8')\n",
    "event.head()"
   ]
  },
  {
   "cell_type": "markdown",
   "metadata": {},
   "source": [
    "### Select sensor events\n"
   ]
  },
  {
   "cell_type": "code",
   "execution_count": 91,
   "metadata": {},
   "outputs": [
    {
     "name": "stderr",
     "output_type": "stream",
     "text": [
      "/Users/gbmello/anaconda3/lib/python3.6/site-packages/ipykernel_launcher.py:2: DeprecationWarning: \n",
      ".ix is deprecated. Please use\n",
      ".loc for label based indexing or\n",
      ".iloc for positional indexing\n",
      "\n",
      "See the documentation here:\n",
      "http://pandas.pydata.org/pandas-docs/stable/indexing.html#ix-indexer-is-deprecated\n",
      "  \n"
     ]
    }
   ],
   "source": [
    "# get all events in the room 10\n",
    "rm0010_events = event.ix[np.where(event.rm0010 == 1)[0], :]\n",
    "rm0009_events = event.ix[np.where(event.rm0009 == 1)[0], :]"
   ]
  },
  {
   "cell_type": "code",
   "execution_count": 92,
   "metadata": {},
   "outputs": [
    {
     "data": {
      "text/html": [
       "<div>\n",
       "<style scoped>\n",
       "    .dataframe tbody tr th:only-of-type {\n",
       "        vertical-align: middle;\n",
       "    }\n",
       "\n",
       "    .dataframe tbody tr th {\n",
       "        vertical-align: top;\n",
       "    }\n",
       "\n",
       "    .dataframe thead th {\n",
       "        text-align: right;\n",
       "    }\n",
       "</style>\n",
       "<table border=\"1\" class=\"dataframe\">\n",
       "  <thead>\n",
       "    <tr style=\"text-align: right;\">\n",
       "      <th></th>\n",
       "      <th>date_time</th>\n",
       "      <th>sensor</th>\n",
       "      <th>event</th>\n",
       "      <th>date</th>\n",
       "      <th>time</th>\n",
       "      <th>rm0009</th>\n",
       "      <th>rm0010</th>\n",
       "    </tr>\n",
       "  </thead>\n",
       "  <tbody>\n",
       "    <tr>\n",
       "      <th>23</th>\n",
       "      <td>2018-07-09 04:06:36</td>\n",
       "      <td>4</td>\n",
       "      <td>1</td>\n",
       "      <td>2018-07-09</td>\n",
       "      <td>04:06:36</td>\n",
       "      <td>0</td>\n",
       "      <td>1</td>\n",
       "    </tr>\n",
       "    <tr>\n",
       "      <th>33</th>\n",
       "      <td>2018-07-09 04:12:36</td>\n",
       "      <td>4</td>\n",
       "      <td>1</td>\n",
       "      <td>2018-07-09</td>\n",
       "      <td>04:12:36</td>\n",
       "      <td>0</td>\n",
       "      <td>1</td>\n",
       "    </tr>\n",
       "    <tr>\n",
       "      <th>41</th>\n",
       "      <td>2018-07-09 04:16:27</td>\n",
       "      <td>4</td>\n",
       "      <td>1</td>\n",
       "      <td>2018-07-09</td>\n",
       "      <td>04:16:27</td>\n",
       "      <td>0</td>\n",
       "      <td>1</td>\n",
       "    </tr>\n",
       "    <tr>\n",
       "      <th>53</th>\n",
       "      <td>2018-07-09 04:25:20</td>\n",
       "      <td>4</td>\n",
       "      <td>1</td>\n",
       "      <td>2018-07-09</td>\n",
       "      <td>04:25:20</td>\n",
       "      <td>0</td>\n",
       "      <td>1</td>\n",
       "    </tr>\n",
       "    <tr>\n",
       "      <th>54</th>\n",
       "      <td>2018-07-09 04:25:39</td>\n",
       "      <td>5</td>\n",
       "      <td>1</td>\n",
       "      <td>2018-07-09</td>\n",
       "      <td>04:25:39</td>\n",
       "      <td>0</td>\n",
       "      <td>1</td>\n",
       "    </tr>\n",
       "  </tbody>\n",
       "</table>\n",
       "</div>"
      ],
      "text/plain": [
       "             date_time  sensor  event        date      time  rm0009  rm0010\n",
       "23 2018-07-09 04:06:36       4      1  2018-07-09  04:06:36       0       1\n",
       "33 2018-07-09 04:12:36       4      1  2018-07-09  04:12:36       0       1\n",
       "41 2018-07-09 04:16:27       4      1  2018-07-09  04:16:27       0       1\n",
       "53 2018-07-09 04:25:20       4      1  2018-07-09  04:25:20       0       1\n",
       "54 2018-07-09 04:25:39       5      1  2018-07-09  04:25:39       0       1"
      ]
     },
     "execution_count": 92,
     "metadata": {},
     "output_type": "execute_result"
    }
   ],
   "source": [
    "rm0010_events.head()"
   ]
  },
  {
   "cell_type": "code",
   "execution_count": 93,
   "metadata": {},
   "outputs": [
    {
     "name": "stdout",
     "output_type": "stream",
     "text": [
      "date_time\n",
      "0      2\n",
      "1      7\n",
      "3      2\n",
      "4     44\n",
      "5     13\n",
      "6     13\n",
      "7     85\n",
      "8     29\n",
      "9     51\n",
      "10    49\n",
      "11    81\n",
      "12    57\n",
      "13    66\n",
      "14    60\n",
      "15    33\n",
      "16    61\n",
      "17    30\n",
      "18    31\n",
      "19    24\n",
      "20    13\n",
      "21     4\n",
      "22    11\n",
      "23     5\n",
      "Name: event, dtype: int64\n"
     ]
    },
    {
     "data": {
      "image/png": "[encoded data removed]",
      "text/plain": [
       "<Figure size 432x288 with 1 Axes>"
      ]
     },
     "metadata": {},
     "output_type": "display_data"
    }
   ],
   "source": [
    "#g= event.groupby(pd.Grouper(key='place'))\n",
    "a = [rm0010_events['date_time'].dt.hour]\n",
    "\n",
    "sum_events_per_place = rm0010_events.groupby(rm0010_events['sensor'])['event'].sum()\n",
    "sum_events_per_time = rm0010_events.groupby(a)['event'].sum()\n",
    "print(sum_events_per_time)\n",
    "fig, ax = plt.subplots()\n",
    "ax.plot(sum_events_per_time)\n",
    "ax.set_xlabel('hours')\n",
    "ax.set_ylabel('event frequency')\n",
    "ax.set_xticks(np.arange(0,24))\n",
    "plt.show()"
   ]
  },
  {
   "cell_type": "code",
   "execution_count": 10,
   "metadata": {},
   "outputs": [
    {
     "name": "stdout",
     "output_type": "stream",
     "text": [
      "date_time\n",
      "8       7\n",
      "9     275\n",
      "10    399\n",
      "11    396\n",
      "12    500\n",
      "13    448\n",
      "14    266\n",
      "15    333\n",
      "16    556\n",
      "Name: event, dtype: int64\n"
     ]
    },
    {
     "data": {
      "image/png": "[encoded data removed]",
      "text/plain": [
       "<Figure size 432x288 with 1 Axes>"
      ]
     },
     "metadata": {},
     "output_type": "display_data"
    }
   ],
   "source": [
    "#g= event.groupby(pd.Grouper(key='place'))\n",
    "days_grpby = [event['date_time'].dt.day]\n",
    "\n",
    "sum_events_per_sensor = event.groupby(event['sensor'])['event'].sum()\n",
    "sum_events_per_time = event.groupby(days_grpby)['event'].sum()\n",
    "print(sum_events_per_time)\n",
    "fig, ax = plt.subplots()\n",
    "ax.plot(sum_events_per_time)\n",
    "ax.set_xlabel('day')\n",
    "ax.set_ylabel('event frequency')\n",
    "ax.set_xticks(np.arange(0,24))\n",
    "plt.show()"
   ]
  },
  {
   "cell_type": "code",
   "execution_count": 84,
   "metadata": {},
   "outputs": [
    {
     "data": {
      "text/plain": [
       "\u001b[0;31mInit signature:\u001b[0m \u001b[0mpd\u001b[0m\u001b[0;34m.\u001b[0m\u001b[0mGrouper\u001b[0m\u001b[0;34m(\u001b[0m\u001b[0;34m*\u001b[0m\u001b[0margs\u001b[0m\u001b[0;34m,\u001b[0m \u001b[0;34m**\u001b[0m\u001b[0mkwargs\u001b[0m\u001b[0;34m)\u001b[0m\u001b[0;34m\u001b[0m\u001b[0m\n",
       "\u001b[0;31mDocstring:\u001b[0m     \n",
       "A Grouper allows the user to specify a groupby instruction for a target\n",
       "object\n",
       "\n",
       "This specification will select a column via the key parameter, or if the\n",
       "level and/or axis parameters are given, a level of the index of the target\n",
       "object.\n",
       "\n",
       "These are local specifications and will override 'global' settings,\n",
       "that is the parameters axis and level which are passed to the groupby\n",
       "itself.\n",
       "\n",
       "Parameters\n",
       "----------\n",
       "key : string, defaults to None\n",
       "    groupby key, which selects the grouping column of the target\n",
       "level : name/number, defaults to None\n",
       "    the level for the target index\n",
       "freq : string / frequency object, defaults to None\n",
       "    This will groupby the specified frequency if the target selection\n",
       "    (via key or level) is a datetime-like object. For full specification\n",
       "    of available frequencies, please see `here\n",
       "    <http://pandas.pydata.org/pandas-docs/stable/timeseries.html#offset-aliases>`_.\n",
       "axis : number/name of the axis, defaults to 0\n",
       "sort : boolean, default to False\n",
       "    whether to sort the resulting labels\n",
       "\n",
       "additional kwargs to control time-like groupers (when ``freq`` is passed)\n",
       "\n",
       "closed : closed end of interval; 'left' or 'right'\n",
       "label : interval boundary to use for labeling; 'left' or 'right'\n",
       "convention : {'start', 'end', 'e', 's'}\n",
       "    If grouper is PeriodIndex\n",
       "base, loffset\n",
       "\n",
       "Returns\n",
       "-------\n",
       "A specification for a groupby instruction\n",
       "\n",
       "Examples\n",
       "--------\n",
       "\n",
       "Syntactic sugar for ``df.groupby('A')``\n",
       "\n",
       ">>> df.groupby(Grouper(key='A'))\n",
       "\n",
       "Specify a resample operation on the column 'date'\n",
       "\n",
       ">>> df.groupby(Grouper(key='date', freq='60s'))\n",
       "\n",
       "Specify a resample operation on the level 'date' on the columns axis\n",
       "with a frequency of 60s\n",
       "\n",
       ">>> df.groupby(Grouper(level='date', freq='60s', axis=1))\n",
       "\u001b[0;31mFile:\u001b[0m           ~/anaconda3/lib/python3.6/site-packages/pandas/core/groupby.py\n",
       "\u001b[0;31mType:\u001b[0m           type\n"
      ]
     },
     "metadata": {},
     "output_type": "display_data"
    }
   ],
   "source": [
    "?pd.Grouper()"
   ]
  },
  {
   "cell_type": "code",
   "execution_count": 23,
   "metadata": {},
   "outputs": [
    {
     "data": {
      "text/plain": [
       "Timedelta('0 days 02:00:00')"
      ]
     },
     "execution_count": 23,
     "metadata": {},
     "output_type": "execute_result"
    }
   ],
   "source": []
  },
  {
   "cell_type": "code",
   "execution_count": 97,
   "metadata": {},
   "outputs": [],
   "source": [
    "import tensorflow as tf\n",
    "tf_keras = tf.contrib.keras\n",
    "tf_keras_losses = tf_keras.losses"
   ]
  },
  {
   "cell_type": "code",
   "execution_count": null,
   "metadata": {},
   "outputs": [],
   "source": []
  },
  {
   "cell_type": "code",
   "execution_count": null,
   "metadata": {},
   "outputs": [],
   "source": []
  }
 ],
 "metadata": {
  "kernelspec": {
   "display_name": "Python 3",
   "language": "python",
   "name": "python3"
  },
  "language_info": {
   "codemirror_mode": {
    "name": "ipython",
    "version": 3
   },
   "file_extension": ".py",
   "mimetype": "text/x-python",
   "name": "python",
   "nbconvert_exporter": "python",
   "pygments_lexer": "ipython3",
   "version": "3.6.4"
  }
 },
 "nbformat": 4,
 "nbformat_minor": 2
}
