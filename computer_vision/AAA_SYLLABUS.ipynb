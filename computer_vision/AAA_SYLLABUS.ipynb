{
 "cells": [
  {
   "cell_type": "markdown",
   "metadata": {},
   "source": [
    "SYllabus of the computer vision course\n",
    "What we can do with opencv\n",
    "\n",
    "1. importing and exporting videos and images\n",
    "2. Image processing operations, ximgproc\n",
    "3. morphological operations defined\n",
    "4. Building GUI (wait, display image, detect mouse)\n",
    "5. Video analysis\n",
    "6. Video Stabilization\n",
    "7. 3d reconstruction, camera calibration calib3d\n",
    "8. feature extractor algorithmes, SIFT SURF, FAST (features2d, xfeatures2d, bioinspired)\n",
    "9. Object detector (VIOLA JONES) objectdetect, xobjectdetect\n",
    "10. machine learning ML library, flann fast nearest neighbours\n",
    "11. Computational photography - manipulate images.(photo, xphoto, stitching)\n",
    "12. Shape analysis (characteristics of the object)\n",
    "13. Optical flow. optflow, tracking\n",
    "14. face/object recognition. face, saliency\n",
    "15. surface matching. kinect, surface matching\n",
    "16. Text detection and recognition\n",
    "\n",
    "\n",
    "\n"
   ]
  },
  {
   "cell_type": "code",
   "execution_count": 1,
   "metadata": {},
   "outputs": [],
   "source": [
    "import cv2"
   ]
  },
  {
   "cell_type": "code",
   "execution_count": null,
   "metadata": {},
   "outputs": [],
   "source": []
  }
 ],
 "metadata": {
  "kernelspec": {
   "display_name": "Python 3",
   "language": "python",
   "name": "python3"
  },
  "language_info": {
   "codemirror_mode": {
    "name": "ipython",
    "version": 3
   },
   "file_extension": ".py",
   "mimetype": "text/x-python",
   "name": "python",
   "nbconvert_exporter": "python",
   "pygments_lexer": "ipython3",
   "version": "3.6.7"
  }
 },
 "nbformat": 4,
 "nbformat_minor": 2
}
