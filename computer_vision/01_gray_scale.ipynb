{
 "cells": [
  {
   "cell_type": "code",
   "execution_count": 16,
   "metadata": {},
   "outputs": [],
   "source": [
    "import numpy as np\n",
    "import cv2"
   ]
  },
  {
   "cell_type": "code",
   "execution_count": 22,
   "metadata": {},
   "outputs": [],
   "source": [
    "input = cv2.imread('images/img.jpg')\n",
    "gray_input = cv2.cvtColor(input,cv2.COLOR_BGR2GRAY) \n",
    "cv2.imshow('Show Image', gray_input)\n",
    "\n",
    "# Wait for a key to be pressed intefinitely or the argument in miliseconds\n",
    "cv2.waitKey()\n",
    "cv2.destroyAllWindows() #only really works in windows or in the console."
   ]
  },
  {
   "cell_type": "markdown",
   "metadata": {},
   "source": [
    "How to write an image"
   ]
  },
  {
   "cell_type": "code",
   "execution_count": 23,
   "metadata": {},
   "outputs": [
    {
     "data": {
      "text/plain": [
       "True"
      ]
     },
     "execution_count": 23,
     "metadata": {},
     "output_type": "execute_result"
    }
   ],
   "source": [
    "\n",
    "cv2.imwrite('images/gray_input.jpg',gray_input)"
   ]
  },
  {
   "cell_type": "markdown",
   "metadata": {},
   "source": [
    "get the dimensions of the image"
   ]
  },
  {
   "cell_type": "code",
   "execution_count": 24,
   "metadata": {},
   "outputs": [
    {
     "name": "stdout",
     "output_type": "stream",
     "text": [
      "480 368\n"
     ]
    }
   ],
   "source": [
    "height = int(input.shape[0])\n",
    "width = int(input.shape[1])\n",
    "print(height, width)"
   ]
  },
  {
   "cell_type": "markdown",
   "metadata": {},
   "source": [
    "Quicker way to import the image as gray is to put 0 as argument to the imread function"
   ]
  },
  {
   "cell_type": "code",
   "execution_count": null,
   "metadata": {},
   "outputs": [],
   "source": [
    "\n",
    "input = cv2.imread('images/img.jpg',0)\n",
    "\n",
    "cv2.imshow('Show Image', input)\n",
    "\n",
    "# Wait for a key to be pressed intefinitely or the argument in miliseconds\n",
    "cv2.waitKey()\n",
    "cv2.destroyAllWindows() #only really works in windows or in the console."
   ]
  },
  {
   "cell_type": "code",
   "execution_count": null,
   "metadata": {},
   "outputs": [],
   "source": []
  },
  {
   "cell_type": "markdown",
   "metadata": {},
   "source": [
    "RGB is represented as BGR\n",
    "HSV is good for color filtering\n",
    "AAlso you can split the scenes by color"
   ]
  },
  {
   "cell_type": "code",
   "execution_count": 28,
   "metadata": {},
   "outputs": [],
   "source": [
    "input = cv2.imread('images/img.jpg')\n",
    "HSV_image = cv2.cvtColor(input,cv2.COLOR_BGR2HSV) \n",
    "cv2.imshow('Show Image', HSV_image)\n",
    "cv2.imshow('Show Image', HSV_image[:,:,0])\n",
    "\n",
    "# Wait for a key to be pressed intefinitely or the argument in miliseconds\n",
    "cv2.waitKey()\n",
    "cv2.destroyAllWindows() #only really works in windows or in the console."
   ]
  },
  {
   "cell_type": "code",
   "execution_count": null,
   "metadata": {},
   "outputs": [],
   "source": []
  }
 ],
 "metadata": {
  "kernelspec": {
   "display_name": "Python 3",
   "language": "python",
   "name": "python3"
  },
  "language_info": {
   "codemirror_mode": {
    "name": "ipython",
    "version": 3
   },
   "file_extension": ".py",
   "mimetype": "text/x-python",
   "name": "python",
   "nbconvert_exporter": "python",
   "pygments_lexer": "ipython3",
   "version": "3.6.4"
  }
 },
 "nbformat": 4,
 "nbformat_minor": 2
}
